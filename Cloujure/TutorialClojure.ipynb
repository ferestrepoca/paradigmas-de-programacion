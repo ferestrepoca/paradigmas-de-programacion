{
 "cells": [
  {
   "cell_type": "markdown",
   "metadata": {},
   "source": [
    "# Sintaxis"
   ]
  },
  {
   "cell_type": "markdown",
   "metadata": {},
   "source": [
    "## Forms"
   ]
  },
  {
   "cell_type": "markdown",
   "metadata": {},
   "source": [
    "Clojure reconoce dos tipos de estructuras:\n",
    "\n",
    "    Representaciones literales de las estructuras de datos (como números, cadenas, mapas, y vectores)\n",
    "    \n",
    "    Operaciones\n",
    "    \n",
    "Utilizamos el término Form para referirnos a un código o expresión válida.\n",
    "\n",
    "Las siguientes representaciones literales son todas Formas válidas:"
   ]
  },
  {
   "cell_type": "code",
   "execution_count": 6,
   "metadata": {
    "collapsed": false
   },
   "outputs": [
    {
     "name": "stdout",
     "output_type": "stream",
     "text": []
    },
    {
     "data": {
      "text/plain": [
       "1 \"a string\" [\"a\" \"vector\" \"of\" \"strings\"]"
      ]
     },
     "execution_count": 6,
     "metadata": {},
     "output_type": "execute_result"
    }
   ],
   "source": [
    "1\n",
    "\"a string\"\n",
    "[\"a\" \"vector\" \"of\" \"strings\"]"
   ]
  },
  {
   "cell_type": "markdown",
   "metadata": {},
   "source": [
    "Los literales se usan en las operaciones. Las operaciones son las queda dicen la forma de hacer las cosas.\n",
    "Todas las operaciones tienen la estructura paréntesis, operador, operandos, paréntesis:\n",
    "    (operator operand1 operand2 ... operandn)\n",
    "Como por ejemplo:"
   ]
  },
  {
   "cell_type": "code",
   "execution_count": 11,
   "metadata": {
    "collapsed": false,
    "scrolled": true
   },
   "outputs": [
    {
     "name": "stdout",
     "output_type": "stream",
     "text": []
    },
    {
     "data": {
      "text/plain": [
       "6 \"It was the panda in the library with a dust buster\""
      ]
     },
     "execution_count": 11,
     "metadata": {},
     "output_type": "execute_result"
    }
   ],
   "source": [
    "(+ 1 2 3)\n",
    "(str \"It was the panda \" \"in the library \" \"with a dust buster\")"
   ]
  },
  {
   "cell_type": "markdown",
   "metadata": {},
   "source": [
    "## Declarar variable"
   ]
  },
  {
   "cell_type": "code",
   "execution_count": 15,
   "metadata": {
    "collapsed": false
   },
   "outputs": [
    {
     "name": "stdout",
     "output_type": "stream",
     "text": []
    },
    {
     "data": {
      "text/plain": [
       "#'user/a 10"
      ]
     },
     "execution_count": 15,
     "metadata": {},
     "output_type": "execute_result"
    }
   ],
   "source": [
    "(def a 10)\n",
    "a"
   ]
  },
  {
   "cell_type": "markdown",
   "metadata": {},
   "source": [
    "## Control Flow"
   ]
  },
  {
   "cell_type": "markdown",
   "metadata": {},
   "source": [
    "### if\n",
    "\n",
    "Forma general del if:\n",
    "\n",
    "    (if boolean-form\n",
    "      then-form\n",
    "      optional-else-form)"
   ]
  },
  {
   "cell_type": "code",
   "execution_count": 13,
   "metadata": {
    "collapsed": false,
    "scrolled": true
   },
   "outputs": [
    {
     "name": "stdout",
     "output_type": "stream",
     "text": []
    },
    {
     "data": {
      "text/plain": [
       "\"By Zeus's hammer!\" \"By Aquaman's trident!\" nil"
      ]
     },
     "execution_count": 13,
     "metadata": {},
     "output_type": "execute_result"
    }
   ],
   "source": [
    "(if true\n",
    "  \"By Zeus's hammer!\"\n",
    "  \"By Aquaman's trident!\")\n",
    "  \n",
    "(if false\n",
    "  \"By Zeus's hammer!\"\n",
    "  \"By Aquaman's trident!\")\n",
    "  \n",
    "(if false\n",
    "  \"By Odin's Elbow!\")"
   ]
  },
  {
   "cell_type": "markdown",
   "metadata": {},
   "source": [
    "### do\n",
    "\n",
    "El operador do permite agrupar múltiples formas, y ejecutar cada una de ellas:"
   ]
  },
  {
   "cell_type": "code",
   "execution_count": 10,
   "metadata": {
    "collapsed": false
   },
   "outputs": [
    {
     "name": "stdout",
     "output_type": "stream",
     "text": []
    },
    {
     "data": {
      "text/plain": [
       "3"
      ]
     },
     "execution_count": 10,
     "metadata": {},
     "output_type": "execute_result"
    }
   ],
   "source": [
    "(if true\n",
    "  (do \n",
    "  (def a 1)\n",
    "  (def b 2)\n",
    "  (+ a b)\n",
    "  )\n",
    "  (do (println \"Failure!\")\n",
    "      \"By Aquaman's trident!\"))"
   ]
  },
  {
   "cell_type": "markdown",
   "metadata": {
    "collapsed": false
   },
   "source": [
    "## When\n",
    "\n",
    "El operador When es como una combinación de if y do, pero sin la rama else. Ejemplo:"
   ]
  },
  {
   "cell_type": "code",
   "execution_count": 23,
   "metadata": {
    "collapsed": false
   },
   "outputs": [
    {
     "name": "stdout",
     "output_type": "stream",
     "text": []
    },
    {
     "data": {
      "text/plain": [
       "\"Success! abra cadabra\""
      ]
     },
     "execution_count": 23,
     "metadata": {},
     "output_type": "execute_result"
    }
   ],
   "source": [
    "(when true\n",
    "  (def a \"Success! \")\n",
    "  (str a \"abra cadabra\") )"
   ]
  },
  {
   "cell_type": "markdown",
   "metadata": {
    "collapsed": true
   },
   "source": [
    "## Expresiones booleanas\n",
    "\n",
    "Clojure tiene valores true and false. nil se utiliza para indicar ningún valor. Se puede comprobar si un valor es nil la funcion nil?"
   ]
  },
  {
   "cell_type": "code",
   "execution_count": 24,
   "metadata": {
    "collapsed": false
   },
   "outputs": [
    {
     "name": "stdout",
     "output_type": "stream",
     "text": []
    },
    {
     "data": {
      "text/plain": [
       "false true"
      ]
     },
     "execution_count": 24,
     "metadata": {},
     "output_type": "execute_result"
    }
   ],
   "source": [
    "(nil? 1)\n",
    "(nil? nil)"
   ]
  },
  {
   "cell_type": "markdown",
   "metadata": {
    "collapsed": true
   },
   "source": [
    "Tanto nil y false se utilizan para representar falsedad, mientras que todos los demás valores son lógicamente verdaderos."
   ]
  },
  {
   "cell_type": "code",
   "execution_count": 25,
   "metadata": {
    "collapsed": false
   },
   "outputs": [
    {
     "name": "stdout",
     "output_type": "stream",
     "text": []
    },
    {
     "data": {
      "text/plain": [
       "\"bears beets Battlestar Galactica\""
      ]
     },
     "execution_count": 25,
     "metadata": {},
     "output_type": "execute_result"
    }
   ],
   "source": [
    "(if \"bears eat beets\"\n",
    "  \"bears beets Battlestar Galactica\")"
   ]
  },
  {
   "cell_type": "code",
   "execution_count": 26,
   "metadata": {
    "collapsed": false
   },
   "outputs": [
    {
     "name": "stdout",
     "output_type": "stream",
     "text": []
    },
    {
     "data": {
      "text/plain": [
       "\"nil is falsey\""
      ]
     },
     "execution_count": 26,
     "metadata": {},
     "output_type": "execute_result"
    }
   ],
   "source": [
    "(if nil\n",
    "  \"This won't be the result because nil is falsey\"\n",
    "  \"nil is falsey\")"
   ]
  },
  {
   "cell_type": "markdown",
   "metadata": {},
   "source": [
    "EL operador de igualdad es ="
   ]
  },
  {
   "cell_type": "code",
   "execution_count": 29,
   "metadata": {
    "collapsed": false
   },
   "outputs": [
    {
     "name": "stdout",
     "output_type": "stream",
     "text": []
    },
    {
     "data": {
      "text/plain": [
       "true true false false"
      ]
     },
     "execution_count": 29,
     "metadata": {},
     "output_type": "execute_result"
    }
   ],
   "source": [
    "(= 1 1)\n",
    "(= nil nil)\n",
    "(= \"hola\" \"Hola\")\n",
    "(= 1 \"1\")"
   ]
  },
  {
   "cell_type": "markdown",
   "metadata": {},
   "source": [
    "### Operadores and y or"
   ]
  },
  {
   "cell_type": "markdown",
   "metadata": {},
   "source": [
    "or retorna el primer valor verdadero o si no, el último valor. "
   ]
  },
  {
   "cell_type": "code",
   "execution_count": 47,
   "metadata": {
    "collapsed": false
   },
   "outputs": [
    {
     "name": "stdout",
     "output_type": "stream",
     "text": []
    },
    {
     "data": {
      "text/plain": [
       ":large_I_mean_venti"
      ]
     },
     "execution_count": 47,
     "metadata": {},
     "output_type": "execute_result"
    }
   ],
   "source": [
    "(or false nil :large_I_mean_venti :why_cant_I_just_say_large)"
   ]
  },
  {
   "cell_type": "code",
   "execution_count": 48,
   "metadata": {
    "collapsed": false
   },
   "outputs": [
    {
     "name": "stdout",
     "output_type": "stream",
     "text": []
    },
    {
     "data": {
      "text/plain": [
       "false"
      ]
     },
     "execution_count": 48,
     "metadata": {},
     "output_type": "execute_result"
    }
   ],
   "source": [
    "(or (= 0 1) (= \"yes\" \"no\"))"
   ]
  },
  {
   "cell_type": "markdown",
   "metadata": {},
   "source": [
    "and retorna el primer valor verdadero o si no, el ultimo valor verdadero."
   ]
  },
  {
   "cell_type": "code",
   "execution_count": 50,
   "metadata": {
    "collapsed": false
   },
   "outputs": [
    {
     "name": "stdout",
     "output_type": "stream",
     "text": []
    },
    {
     "data": {
      "text/plain": [
       ":hot_coffee"
      ]
     },
     "execution_count": 50,
     "metadata": {},
     "output_type": "execute_result"
    }
   ],
   "source": [
    "(and :free_wifi :hot_coffee)"
   ]
  },
  {
   "cell_type": "code",
   "execution_count": 51,
   "metadata": {
    "collapsed": false
   },
   "outputs": [
    {
     "name": "stdout",
     "output_type": "stream",
     "text": []
    },
    {
     "data": {
      "text/plain": [
       "nil"
      ]
     },
     "execution_count": 51,
     "metadata": {},
     "output_type": "execute_result"
    }
   ],
   "source": [
    "(and :feelin_super_cool nil false)"
   ]
  },
  {
   "cell_type": "markdown",
   "metadata": {},
   "source": [
    "## Data Structures\n",
    "\n",
    "Todas las estructuras de datos de Clojure son inmutables."
   ]
  },
  {
   "cell_type": "markdown",
   "metadata": {},
   "source": [
    "Integer, float, ratio, strings."
   ]
  },
  {
   "cell_type": "code",
   "execution_count": 55,
   "metadata": {
    "collapsed": false
   },
   "outputs": [
    {
     "name": "stdout",
     "output_type": "stream",
     "text": []
    },
    {
     "data": {
      "text/plain": [
       "93 1.2 1/5 nil"
      ]
     },
     "execution_count": 55,
     "metadata": {},
     "output_type": "execute_result"
    }
   ],
   "source": [
    "93\n",
    "1.2\n",
    "1/5\n",
    "(println \"\\\"Great cow of Moscow!\\\" - Hermes Conrad\")"
   ]
  },
  {
   "cell_type": "markdown",
   "metadata": {},
   "source": [
    "Clojure sólo permite comillas dobles para delimitar cadenas. 'Lord Voldemort', por ejemplo, no es una cadena válida. Clojure no tiene interpolación de cadenas. Sólo se permite la concatenación a través de la función str:"
   ]
  },
  {
   "cell_type": "code",
   "execution_count": 62,
   "metadata": {
    "collapsed": false
   },
   "outputs": [
    {
     "name": "stdout",
     "output_type": "stream",
     "text": []
    },
    {
     "data": {
      "text/plain": [
       "#'user/name \"\\\"Uggllglglglglglglglll\\\" - Chewbacca\""
      ]
     },
     "execution_count": 62,
     "metadata": {},
     "output_type": "execute_result"
    }
   ],
   "source": [
    "(def name \"Chewbacca\")\n",
    "(str \"\\\"Uggllglglglglglglglll\\\" - \" name)"
   ]
  },
  {
   "cell_type": "markdown",
   "metadata": {},
   "source": [
    "### Maps\n",
    "\n"
   ]
  },
  {
   "cell_type": "markdown",
   "metadata": {},
   "source": [
    "En este ejemplo :first-name and :last-name are keywords, un diccionario se declara con {}"
   ]
  },
  {
   "cell_type": "code",
   "execution_count": 1,
   "metadata": {
    "collapsed": false
   },
   "outputs": [
    {
     "name": "stdout",
     "output_type": "stream",
     "text": []
    },
    {
     "data": {
      "text/plain": [
       "{:first-name \"Charlie\", :last-name \"McFishwich\"}"
      ]
     },
     "execution_count": 1,
     "metadata": {},
     "output_type": "execute_result"
    }
   ],
   "source": [
    "{:first-name \"Charlie\"\n",
    " :last-name \"McFishwich\"}"
   ]
  },
  {
   "cell_type": "markdown",
   "metadata": {},
   "source": [
    "Aquí asociamos la llave \"string-key\" con la funcion +"
   ]
  },
  {
   "cell_type": "code",
   "execution_count": 2,
   "metadata": {
    "collapsed": false
   },
   "outputs": [
    {
     "name": "stdout",
     "output_type": "stream",
     "text": []
    },
    {
     "data": {
      "text/plain": [
       "{\"string-key\" #object[clojure.core$_PLUS_ 0x2a00e604 \"clojure.core$_PLUS_@2a00e604\"]}"
      ]
     },
     "execution_count": 2,
     "metadata": {},
     "output_type": "execute_result"
    }
   ],
   "source": [
    "{\"string-key\" +}"
   ]
  },
  {
   "cell_type": "markdown",
   "metadata": {},
   "source": [
    "Los mapas pueden ser anidados"
   ]
  },
  {
   "cell_type": "code",
   "execution_count": 3,
   "metadata": {
    "collapsed": false
   },
   "outputs": [
    {
     "name": "stdout",
     "output_type": "stream",
     "text": []
    },
    {
     "data": {
      "text/plain": [
       "{:name {:first \"John\", :middle \"Jacob\", :last \"Jingleheimerschmidt\"}}"
      ]
     },
     "execution_count": 3,
     "metadata": {},
     "output_type": "execute_result"
    }
   ],
   "source": [
    "{:name {:first \"John\" :middle \"Jacob\" :last \"Jingleheimerschmidt\"}}"
   ]
  },
  {
   "cell_type": "markdown",
   "metadata": {},
   "source": [
    "También se puede usar la función hash-map"
   ]
  },
  {
   "cell_type": "code",
   "execution_count": 4,
   "metadata": {
    "collapsed": false
   },
   "outputs": [
    {
     "name": "stdout",
     "output_type": "stream",
     "text": []
    },
    {
     "data": {
      "text/plain": [
       "{:b 2, :a 1}"
      ]
     },
     "execution_count": 4,
     "metadata": {},
     "output_type": "execute_result"
    }
   ],
   "source": [
    "(hash-map :a 1 :b 2)"
   ]
  },
  {
   "cell_type": "markdown",
   "metadata": {},
   "source": [
    "Para acceder a un valor se usa la función get"
   ]
  },
  {
   "cell_type": "code",
   "execution_count": 5,
   "metadata": {
    "collapsed": false
   },
   "outputs": [
    {
     "name": "stdout",
     "output_type": "stream",
     "text": []
    },
    {
     "data": {
      "text/plain": [
       "1"
      ]
     },
     "execution_count": 5,
     "metadata": {},
     "output_type": "execute_result"
    }
   ],
   "source": [
    "(get {:a 0 :b 1} :b)"
   ]
  },
  {
   "cell_type": "code",
   "execution_count": 6,
   "metadata": {
    "collapsed": false
   },
   "outputs": [
    {
     "name": "stdout",
     "output_type": "stream",
     "text": []
    },
    {
     "data": {
      "text/plain": [
       "{:c \"ho hum\"}"
      ]
     },
     "execution_count": 6,
     "metadata": {},
     "output_type": "execute_result"
    }
   ],
   "source": [
    "(get {:a 0 :b {:c \"ho hum\"}} :b)"
   ]
  },
  {
   "cell_type": "markdown",
   "metadata": {},
   "source": [
    "si no se encuentra el valor, se retorna nil o se puede dar un valor por defecto como \"unicorns?\""
   ]
  },
  {
   "cell_type": "code",
   "execution_count": 7,
   "metadata": {
    "collapsed": false
   },
   "outputs": [
    {
     "name": "stdout",
     "output_type": "stream",
     "text": []
    },
    {
     "data": {
      "text/plain": [
       "nil \"unicorns?\""
      ]
     },
     "execution_count": 7,
     "metadata": {},
     "output_type": "execute_result"
    }
   ],
   "source": [
    "(get {:a 0 :b 1} :c)\n",
    "(get {:a 0 :b 1} :c \"unicorns?\")"
   ]
  },
  {
   "cell_type": "markdown",
   "metadata": {},
   "source": [
    "La funcion get-in permite buscar en mapas anidados"
   ]
  },
  {
   "cell_type": "code",
   "execution_count": 8,
   "metadata": {
    "collapsed": false
   },
   "outputs": [
    {
     "name": "stdout",
     "output_type": "stream",
     "text": []
    },
    {
     "data": {
      "text/plain": [
       "\"ho hum\""
      ]
     },
     "execution_count": 8,
     "metadata": {},
     "output_type": "execute_result"
    }
   ],
   "source": [
    "(get-in {:a 0 :b {:c \"ho hum\"}} [:b :c])"
   ]
  },
  {
   "cell_type": "markdown",
   "metadata": {},
   "source": [
    "Otra manera de buscar un valor, es usar el mapa como una funcion con la llave como argumento"
   ]
  },
  {
   "cell_type": "code",
   "execution_count": 10,
   "metadata": {
    "collapsed": false
   },
   "outputs": [
    {
     "name": "stdout",
     "output_type": "stream",
     "text": []
    },
    {
     "data": {
      "text/plain": [
       "\"The Human Coffeepot\""
      ]
     },
     "execution_count": 10,
     "metadata": {},
     "output_type": "execute_result"
    }
   ],
   "source": [
    "({:name \"The Human Coffeepot\"} :name)"
   ]
  },
  {
   "cell_type": "markdown",
   "metadata": {},
   "source": [
    "## Keywords"
   ]
  },
  {
   "cell_type": "markdown",
   "metadata": {},
   "source": [
    "Pueden ser usadas como funciones que buscan en un mapa su correspondiente valor. ejemplos de keywords:\n",
    "    :a\n",
    "    :rumplestiltsken\n",
    "    :34\n",
    "    :_?"
   ]
  },
  {
   "cell_type": "code",
   "execution_count": 9,
   "metadata": {
    "collapsed": false
   },
   "outputs": [
    {
     "name": "stdout",
     "output_type": "stream",
     "text": []
    },
    {
     "data": {
      "text/plain": [
       "1"
      ]
     },
     "execution_count": 9,
     "metadata": {},
     "output_type": "execute_result"
    }
   ],
   "source": [
    "(:a {:a 1 :b 2 :c 3})"
   ]
  },
  {
   "cell_type": "markdown",
   "metadata": {},
   "source": [
    "## Vectors"
   ]
  },
  {
   "cell_type": "markdown",
   "metadata": {},
   "source": [
    "Obtener el elemento en el indice 0"
   ]
  },
  {
   "cell_type": "code",
   "execution_count": 12,
   "metadata": {
    "collapsed": false
   },
   "outputs": [
    {
     "name": "stdout",
     "output_type": "stream",
     "text": []
    },
    {
     "data": {
      "text/plain": [
       "3"
      ]
     },
     "execution_count": 12,
     "metadata": {},
     "output_type": "execute_result"
    }
   ],
   "source": [
    "(get [3 2 1] 0)"
   ]
  },
  {
   "cell_type": "markdown",
   "metadata": {},
   "source": [
    "Obtener el elemento en el indice 1"
   ]
  },
  {
   "cell_type": "code",
   "execution_count": 13,
   "metadata": {
    "collapsed": false
   },
   "outputs": [
    {
     "name": "stdout",
     "output_type": "stream",
     "text": []
    },
    {
     "data": {
      "text/plain": [
       "{:name \"Pugsley Winterbottom\"}"
      ]
     },
     "execution_count": 13,
     "metadata": {},
     "output_type": "execute_result"
    }
   ],
   "source": [
    "(get [\"a\" {:name \"Pugsley Winterbottom\"} \"c\"] 1)"
   ]
  },
  {
   "cell_type": "markdown",
   "metadata": {},
   "source": [
    "Se pueden crear vectores con la función vector"
   ]
  },
  {
   "cell_type": "code",
   "execution_count": 14,
   "metadata": {
    "collapsed": false
   },
   "outputs": [
    {
     "name": "stdout",
     "output_type": "stream",
     "text": []
    },
    {
     "data": {
      "text/plain": [
       "[\"creepy\" \"full\" \"moon\"]"
      ]
     },
     "execution_count": 14,
     "metadata": {},
     "output_type": "execute_result"
    }
   ],
   "source": [
    "(vector \"creepy\" \"full\" \"moon\")"
   ]
  },
  {
   "cell_type": "markdown",
   "metadata": {},
   "source": [
    "Se pueden añadir elementos al final de un vector con la funcion conj"
   ]
  },
  {
   "cell_type": "code",
   "execution_count": 15,
   "metadata": {
    "collapsed": false
   },
   "outputs": [
    {
     "name": "stdout",
     "output_type": "stream",
     "text": []
    },
    {
     "data": {
      "text/plain": [
       "[1 2 3 4]"
      ]
     },
     "execution_count": 15,
     "metadata": {},
     "output_type": "execute_result"
    }
   ],
   "source": [
    "(conj [1 2 3] 4)"
   ]
  },
  {
   "cell_type": "markdown",
   "metadata": {},
   "source": [
    "## Lists"
   ]
  },
  {
   "cell_type": "markdown",
   "metadata": {},
   "source": [
    "Las listas son coleciones lineales de valores al igual que los vectores, pero con algunas diferencias, como por ejemplo, no se puede usar la funcion get."
   ]
  },
  {
   "cell_type": "code",
   "execution_count": 16,
   "metadata": {
    "collapsed": false
   },
   "outputs": [
    {
     "name": "stdout",
     "output_type": "stream",
     "text": []
    },
    {
     "data": {
      "text/plain": [
       "(1 2 3 4)"
      ]
     },
     "execution_count": 16,
     "metadata": {},
     "output_type": "execute_result"
    }
   ],
   "source": [
    "'(1 2 3 4)"
   ]
  },
  {
   "cell_type": "markdown",
   "metadata": {},
   "source": [
    "Para obtener un valor, se usa la funcion nth"
   ]
  },
  {
   "cell_type": "code",
   "execution_count": 17,
   "metadata": {
    "collapsed": false
   },
   "outputs": [
    {
     "name": "stdout",
     "output_type": "stream",
     "text": []
    },
    {
     "data": {
      "text/plain": [
       ":a :c"
      ]
     },
     "execution_count": 17,
     "metadata": {},
     "output_type": "execute_result"
    }
   ],
   "source": [
    "(nth '(:a :b :c) 0)\n",
    "(nth '(:a :b :c) 2)"
   ]
  },
  {
   "cell_type": "markdown",
   "metadata": {},
   "source": [
    "Las listas, al igual que los vectores pueden contener cualquier tipo de valor, tambien se pueden declarar con la funcion list."
   ]
  },
  {
   "cell_type": "code",
   "execution_count": 18,
   "metadata": {
    "collapsed": false
   },
   "outputs": [
    {
     "name": "stdout",
     "output_type": "stream",
     "text": []
    },
    {
     "data": {
      "text/plain": [
       "(1 \"two\" {3 4})"
      ]
     },
     "execution_count": 18,
     "metadata": {},
     "output_type": "execute_result"
    }
   ],
   "source": [
    "(list 1 \"two\" {3 4})"
   ]
  },
  {
   "cell_type": "markdown",
   "metadata": {},
   "source": [
    "Se pueden insertar elementos al comienzo de la lista con conj"
   ]
  },
  {
   "cell_type": "code",
   "execution_count": 19,
   "metadata": {
    "collapsed": false,
    "scrolled": true
   },
   "outputs": [
    {
     "name": "stdout",
     "output_type": "stream",
     "text": []
    },
    {
     "data": {
      "text/plain": [
       "(4 1 2 3)"
      ]
     },
     "execution_count": 19,
     "metadata": {},
     "output_type": "execute_result"
    }
   ],
   "source": [
    "(conj '(1 2 3) 4)"
   ]
  },
  {
   "cell_type": "markdown",
   "metadata": {},
   "source": [
    "## Sets"
   ]
  },
  {
   "cell_type": "markdown",
   "metadata": {},
   "source": [
    "Los sets con coleciones de valores únicos, una notacion literal para un set puede ser:"
   ]
  },
  {
   "cell_type": "code",
   "execution_count": 20,
   "metadata": {
    "collapsed": false
   },
   "outputs": [
    {
     "name": "stdout",
     "output_type": "stream",
     "text": []
    },
    {
     "data": {
      "text/plain": [
       "#{20 :icicle \"kurt vonnegut\"}"
      ]
     },
     "execution_count": 20,
     "metadata": {},
     "output_type": "execute_result"
    }
   ],
   "source": [
    "#{\"kurt vonnegut\" 20 :icicle}"
   ]
  },
  {
   "cell_type": "markdown",
   "metadata": {},
   "source": [
    "Tambien se puede usar la función hash-set"
   ]
  },
  {
   "cell_type": "code",
   "execution_count": 21,
   "metadata": {
    "collapsed": false
   },
   "outputs": [
    {
     "name": "stdout",
     "output_type": "stream",
     "text": []
    },
    {
     "data": {
      "text/plain": [
       "#{1 2}"
      ]
     },
     "execution_count": 21,
     "metadata": {},
     "output_type": "execute_result"
    }
   ],
   "source": [
    "(hash-set 1 1 2 2)"
   ]
  },
  {
   "cell_type": "markdown",
   "metadata": {},
   "source": [
    "Si se agraga un valor a un set que ya se encuentra, este se rechaza:"
   ]
  },
  {
   "cell_type": "code",
   "execution_count": 23,
   "metadata": {
    "collapsed": false
   },
   "outputs": [
    {
     "name": "stdout",
     "output_type": "stream",
     "text": []
    },
    {
     "data": {
      "text/plain": [
       "#{:b :d :a}"
      ]
     },
     "execution_count": 23,
     "metadata": {},
     "output_type": "execute_result"
    }
   ],
   "source": [
    "(conj #{:a :b :d} :b)"
   ]
  },
  {
   "cell_type": "code",
   "execution_count": 24,
   "metadata": {
    "collapsed": false
   },
   "outputs": [
    {
     "name": "stdout",
     "output_type": "stream",
     "text": []
    },
    {
     "data": {
      "text/plain": [
       "#{:c :b :d :a}"
      ]
     },
     "execution_count": 24,
     "metadata": {},
     "output_type": "execute_result"
    }
   ],
   "source": [
    "(conj #{:a :b :d} :c)"
   ]
  },
  {
   "cell_type": "markdown",
   "metadata": {},
   "source": [
    "Se pueden crear sets a partir de listas o vectores ya creados"
   ]
  },
  {
   "cell_type": "code",
   "execution_count": 25,
   "metadata": {
    "collapsed": false
   },
   "outputs": [
    {
     "name": "stdout",
     "output_type": "stream",
     "text": []
    },
    {
     "data": {
      "text/plain": [
       "#{4 3}"
      ]
     },
     "execution_count": 25,
     "metadata": {},
     "output_type": "execute_result"
    }
   ],
   "source": [
    "(set [3 3 3 4 4])"
   ]
  },
  {
   "cell_type": "markdown",
   "metadata": {},
   "source": [
    "Se puede mirar si un set contienen un elemento con la funcion get, un keyword o la funcion contains?"
   ]
  },
  {
   "cell_type": "code",
   "execution_count": 26,
   "metadata": {
    "collapsed": false
   },
   "outputs": [
    {
     "name": "stdout",
     "output_type": "stream",
     "text": []
    },
    {
     "data": {
      "text/plain": [
       "true false"
      ]
     },
     "execution_count": 26,
     "metadata": {},
     "output_type": "execute_result"
    }
   ],
   "source": [
    "(contains? #{:a :b} :a)\n",
    "(contains? #{:a :b} 3)"
   ]
  },
  {
   "cell_type": "code",
   "execution_count": 84,
   "metadata": {
    "collapsed": false
   },
   "outputs": [
    {
     "name": "stdout",
     "output_type": "stream",
     "text": []
    },
    {
     "data": {
      "text/plain": [
       ":a nil"
      ]
     },
     "execution_count": 84,
     "metadata": {},
     "output_type": "execute_result"
    }
   ],
   "source": [
    "(:a #{:a :b})\n",
    "(:c #{:a :b})"
   ]
  },
  {
   "cell_type": "code",
   "execution_count": 28,
   "metadata": {
    "collapsed": false
   },
   "outputs": [
    {
     "name": "stdout",
     "output_type": "stream",
     "text": []
    },
    {
     "data": {
      "text/plain": [
       ":a nil"
      ]
     },
     "execution_count": 28,
     "metadata": {},
     "output_type": "execute_result"
    }
   ],
   "source": [
    "(get #{:a :b} :a)\n",
    "(get #{:a :b} \"kurt vonnegut\")"
   ]
  },
  {
   "cell_type": "markdown",
   "metadata": {},
   "source": [
    "## Calling Functions"
   ]
  },
  {
   "cell_type": "markdown",
   "metadata": {},
   "source": [
    "Esta es una expresion que retorna la funcion +"
   ]
  },
  {
   "cell_type": "code",
   "execution_count": 29,
   "metadata": {
    "collapsed": false
   },
   "outputs": [
    {
     "name": "stdout",
     "output_type": "stream",
     "text": []
    },
    {
     "data": {
      "text/plain": [
       "#object[clojure.core$_PLUS_ 0x2a00e604 \"clojure.core$_PLUS_@2a00e604\"]"
      ]
     },
     "execution_count": 29,
     "metadata": {},
     "output_type": "execute_result"
    }
   ],
   "source": [
    "(or + -)"
   ]
  },
  {
   "cell_type": "markdown",
   "metadata": {},
   "source": [
    "Ejemplos de expresiones que retornan 6:"
   ]
  },
  {
   "cell_type": "code",
   "execution_count": 30,
   "metadata": {
    "collapsed": false,
    "scrolled": true
   },
   "outputs": [
    {
     "name": "stdout",
     "output_type": "stream",
     "text": []
    },
    {
     "data": {
      "text/plain": [
       "6"
      ]
     },
     "execution_count": 30,
     "metadata": {},
     "output_type": "execute_result"
    }
   ],
   "source": [
    "((or + -) 1 2 3)"
   ]
  },
  {
   "cell_type": "code",
   "execution_count": 31,
   "metadata": {
    "collapsed": false
   },
   "outputs": [
    {
     "name": "stdout",
     "output_type": "stream",
     "text": []
    },
    {
     "data": {
      "text/plain": [
       "6"
      ]
     },
     "execution_count": 31,
     "metadata": {},
     "output_type": "execute_result"
    }
   ],
   "source": [
    "((and (= 1 1) +) 1 2 3)"
   ]
  },
  {
   "cell_type": "code",
   "execution_count": 32,
   "metadata": {
    "collapsed": false
   },
   "outputs": [
    {
     "name": "stdout",
     "output_type": "stream",
     "text": []
    },
    {
     "data": {
      "text/plain": [
       "6"
      ]
     },
     "execution_count": 32,
     "metadata": {},
     "output_type": "execute_result"
    }
   ],
   "source": [
    "((first [+ 0]) 1 2 3)"
   ]
  },
  {
   "cell_type": "markdown",
   "metadata": {},
   "source": [
    "Las funciones pueden tomar como parametros otras funciones o retornar funciones, estas funciones se llaman \n",
    "\"higher-order functions\" lenguajes que permiten hacer esto, se dice que soportan \"first-class functions\"."
   ]
  },
  {
   "cell_type": "markdown",
   "metadata": {},
   "source": [
    "Por ejemplo, la funcion map crea una lista aplicando una funcion a todos los elementos de una colección (La funcion inc incrementa en uno el valor del argumento):"
   ]
  },
  {
   "cell_type": "code",
   "execution_count": 33,
   "metadata": {
    "collapsed": false
   },
   "outputs": [
    {
     "name": "stdout",
     "output_type": "stream",
     "text": []
    },
    {
     "data": {
      "text/plain": [
       "(1 2 3 4)"
      ]
     },
     "execution_count": 33,
     "metadata": {},
     "output_type": "execute_result"
    }
   ],
   "source": [
    "(map inc [0 1 2 3])"
   ]
  },
  {
   "cell_type": "markdown",
   "metadata": {},
   "source": [
    "## Defining Functions"
   ]
  },
  {
   "cell_type": "markdown",
   "metadata": {},
   "source": [
    "Las funciones están definidas por cinco partes principales:\n",
    "\n",
    "    defn\n",
    "    nombre\n",
    "    Un docstring describiendo la funcion (opcional)\n",
    "    Parametros listados en brackets\n",
    "    Cuerpo de la funcion"
   ]
  },
  {
   "cell_type": "markdown",
   "metadata": {},
   "source": [
    "## Arity"
   ]
  },
  {
   "cell_type": "markdown",
   "metadata": {},
   "source": [
    "Arity es el número de parametros que tiene una funcion, estos parametros pueden ser de cualquier tipo, se puede tener una funcion con distintos cuerpos que corren dependiendo del arity como por ejemplo:\n",
    "\n",
    "(defn multi-arity\n",
    "  ;; 3-arity arguments and body\n",
    "  ([first-arg second-arg third-arg]\n",
    "     (do-things first-arg second-arg third-arg))\n",
    "     \n",
    "  ;; 2-arity arguments and body\n",
    "  ([first-arg second-arg]\n",
    "     (do-things first-arg second-arg))\n",
    "     \n",
    "  ;; 1-arity arguments and body\n",
    "  ([first-arg]\n",
    "     (do-things first-arg)))"
   ]
  },
  {
   "cell_type": "markdown",
   "metadata": {},
   "source": [
    "Con arity overloading podemos proveer valores por defecto a una funcion, como por ejemplo:"
   ]
  },
  {
   "cell_type": "code",
   "execution_count": null,
   "metadata": {
    "collapsed": true
   },
   "outputs": [],
   "source": [
    "(defn x-chop\n",
    "  \"Describe the kind of chop you're inflicting on someone\"\n",
    "  ([name chop-type]\n",
    "     (str \"I \" chop-type \" chop \" name \"! Take that!\"))\n",
    "  ([name]\n",
    "     (x-chop name \"karate\")))"
   ]
  },
  {
   "cell_type": "code",
   "execution_count": 37,
   "metadata": {
    "collapsed": false
   },
   "outputs": [
    {
     "name": "stdout",
     "output_type": "stream",
     "text": []
    },
    {
     "data": {
      "text/plain": [
       "\"I slap chop Kanye West! Take that!\""
      ]
     },
     "execution_count": 37,
     "metadata": {},
     "output_type": "execute_result"
    }
   ],
   "source": [
    "(x-chop \"Kanye West\" \"slap\")"
   ]
  },
  {
   "cell_type": "code",
   "execution_count": 38,
   "metadata": {
    "collapsed": false
   },
   "outputs": [
    {
     "name": "stdout",
     "output_type": "stream",
     "text": []
    },
    {
     "data": {
      "text/plain": [
       "\"I karate chop Kanye East! Take that!\""
      ]
     },
     "execution_count": 38,
     "metadata": {},
     "output_type": "execute_result"
    }
   ],
   "source": [
    "(x-chop \"Kanye East\")"
   ]
  },
  {
   "cell_type": "markdown",
   "metadata": {
    "collapsed": true
   },
   "source": [
    "Clojure también permite definir funciones de Arity variable mediante la inclusión de un parámetro rest indicado por un &"
   ]
  },
  {
   "cell_type": "code",
   "execution_count": 41,
   "metadata": {
    "collapsed": false
   },
   "outputs": [
    {
     "name": "stdout",
     "output_type": "stream",
     "text": []
    },
    {
     "data": {
      "text/plain": [
       "#'user/codger-communication #'user/codger"
      ]
     },
     "execution_count": 41,
     "metadata": {},
     "output_type": "execute_result"
    }
   ],
   "source": [
    "(defn codger-communication\n",
    "  [whippersnapper]\n",
    "  (str \"Get off my lawn, \" whippersnapper \"!!!\"))\n",
    "\n",
    "(defn codger\n",
    "  [& whippersnappers]\n",
    "  (map codger-communication whippersnappers))"
   ]
  },
  {
   "cell_type": "code",
   "execution_count": 42,
   "metadata": {
    "collapsed": false
   },
   "outputs": [
    {
     "name": "stdout",
     "output_type": "stream",
     "text": []
    },
    {
     "data": {
      "text/plain": [
       "(\"Get off my lawn, Billy!!!\" \"Get off my lawn, Anne-Marie!!!\" \"Get off my lawn, The Incredible Bulk!!!\")"
      ]
     },
     "execution_count": 42,
     "metadata": {},
     "output_type": "execute_result"
    }
   ],
   "source": [
    "(codger \"Billy\" \"Anne-Marie\" \"The Incredible Bulk\")"
   ]
  },
  {
   "cell_type": "markdown",
   "metadata": {
    "collapsed": true
   },
   "source": [
    "Se puede mezclar parámetros rest con parámetros normales, pero el parámetro rest tiene que ir en último lugar:"
   ]
  },
  {
   "cell_type": "code",
   "execution_count": 43,
   "metadata": {
    "collapsed": false
   },
   "outputs": [
    {
     "name": "stdout",
     "output_type": "stream",
     "text": []
    },
    {
     "data": {
      "text/plain": [
       "#'user/favorite-things \"Hi, Doreen, here are my favorite things: gum, shoes, kara-te\""
      ]
     },
     "execution_count": 43,
     "metadata": {},
     "output_type": "execute_result"
    }
   ],
   "source": [
    "(defn favorite-things\n",
    "  [name & things]\n",
    "  (str \"Hi, \" name \", here are my favorite things: \"\n",
    "       (clojure.string/join \", \" things)))\n",
    "\n",
    "(favorite-things \"Doreen\" \"gum\" \"shoes\" \"kara-te\")"
   ]
  },
  {
   "cell_type": "markdown",
   "metadata": {},
   "source": [
    "## Destructuring"
   ]
  },
  {
   "cell_type": "markdown",
   "metadata": {},
   "source": [
    "Permite enlazar de forma concisa nombres a los valores dentro de una colección."
   ]
  },
  {
   "cell_type": "code",
   "execution_count": 44,
   "metadata": {
    "collapsed": false
   },
   "outputs": [
    {
     "name": "stdout",
     "output_type": "stream",
     "text": []
    },
    {
     "data": {
      "text/plain": [
       "#'user/my-first \"oven\""
      ]
     },
     "execution_count": 44,
     "metadata": {},
     "output_type": "execute_result"
    }
   ],
   "source": [
    "(defn my-first\n",
    "  [[first-thing]] ; Notice that first-thing is within a vector\n",
    "  first-thing)\n",
    "\n",
    "(my-first [\"oven\" \"bike\" \"war-axe\"])"
   ]
  },
  {
   "cell_type": "markdown",
   "metadata": {},
   "source": [
    "(defn chooser\n",
    "  [[first-choice second-choice & unimportant-choices]]\n",
    "  (println (str \"Your first choice is: \" first-choice))\n",
    "  (println (str \"Your second choice is: \" second-choice))\n",
    "  (println (str \"We're ignoring the rest of your choices. \"\n",
    "  \"Here they are in case you need to cry over them: \" (clojure.string/join \", \" unimportant-choices))))\n",
    "  \n",
    "    ; => Your first choice is: Marmalade\n",
    "    ; => Your second choice is: Handsome Jack\n",
    "    ; => We're ignoring the rest of your choices. Here they are in case \\\n",
    "     you need to cry over them: Pigpen, Aquaman"
   ]
  },
  {
   "cell_type": "markdown",
   "metadata": {},
   "source": [
    "También se pueden desestructurar mapas. De la misma manera que para desestructurar un vector o una lista."
   ]
  },
  {
   "cell_type": "markdown",
   "metadata": {},
   "source": [
    "(defn announce-treasure-location\n",
    "    [{lat :lat lng :lng}]\n",
    "    (println (str \"Treasure lat: \" lat))\n",
    "    (println (str \"Treasure lng: \" lng)))\n",
    "\n",
    "(announce-treasure-location {:lat 28.22 :lng 81.33})\n",
    "    ; => Treasure lat: 100\n",
    "    ; => Treasure lng: 50"
   ]
  },
  {
   "cell_type": "markdown",
   "metadata": {},
   "source": [
    "(defn announce-treasure-location\n",
    "    [{:keys [lat lng]}]\n",
    "    (println (str \"Treasure lat: \" lat))\n",
    "    (println (str \"Treasure lng: \" lng)))"
   ]
  },
  {
   "cell_type": "markdown",
   "metadata": {},
   "source": [
    "## Function Body"
   ]
  },
  {
   "cell_type": "markdown",
   "metadata": {},
   "source": [
    "El cuerpo de la función puede contener forms de cualquier tipo. Clojure retorna automáticamente la última \n",
    "sentecia evaluada."
   ]
  },
  {
   "cell_type": "code",
   "execution_count": 48,
   "metadata": {
    "collapsed": false
   },
   "outputs": [
    {
     "name": "stdout",
     "output_type": "stream",
     "text": []
    },
    {
     "data": {
      "text/plain": [
       "#'user/illustrative-function \"joe\""
      ]
     },
     "execution_count": 48,
     "metadata": {},
     "output_type": "execute_result"
    }
   ],
   "source": [
    "(defn illustrative-function\n",
    "  []\n",
    "  (+ 1 304)\n",
    "  30\n",
    "  \"joe\")\n",
    "\n",
    "(illustrative-function)"
   ]
  },
  {
   "cell_type": "code",
   "execution_count": 49,
   "metadata": {
    "collapsed": false
   },
   "outputs": [
    {
     "name": "stdout",
     "output_type": "stream",
     "text": []
    },
    {
     "data": {
      "text/plain": [
       "#'user/number-comment \"That number's OK, I guess\" \"Oh my gosh! What a big number!\""
      ]
     },
     "execution_count": 49,
     "metadata": {},
     "output_type": "execute_result"
    }
   ],
   "source": [
    "(defn number-comment\n",
    "  [x]\n",
    "  (if (> x 6)\n",
    "    \"Oh my gosh! What a big number!\"\n",
    "    \"That number's OK, I guess\"))\n",
    "\n",
    "(number-comment 5)\n",
    "\n",
    "(number-comment 7)"
   ]
  },
  {
   "cell_type": "markdown",
   "metadata": {},
   "source": [
    "## Anonymous Functions"
   ]
  },
  {
   "cell_type": "markdown",
   "metadata": {},
   "source": [
    "En Clojure, las funciones no necesitan tener nombres.\n",
    "Se pueden crear de dos maneras. La primera es utilizar la funcion fn:\n",
    "    (fn [param-list]\n",
    "      function body)"
   ]
  },
  {
   "cell_type": "code",
   "execution_count": 50,
   "metadata": {
    "collapsed": false
   },
   "outputs": [
    {
     "name": "stdout",
     "output_type": "stream",
     "text": []
    },
    {
     "data": {
      "text/plain": [
       "(\"Hi, Darth Vader\" \"Hi, Mr. Magoo\")"
      ]
     },
     "execution_count": 50,
     "metadata": {},
     "output_type": "execute_result"
    }
   ],
   "source": [
    "(map (fn [name] (str \"Hi, \" name))\n",
    "     [\"Darth Vader\" \"Mr. Magoo\"])"
   ]
  },
  {
   "cell_type": "code",
   "execution_count": 51,
   "metadata": {
    "collapsed": false
   },
   "outputs": [
    {
     "name": "stdout",
     "output_type": "stream",
     "text": []
    },
    {
     "data": {
      "text/plain": [
       "24"
      ]
     },
     "execution_count": 51,
     "metadata": {},
     "output_type": "execute_result"
    }
   ],
   "source": [
    "((fn [x] (* x 3)) 8)"
   ]
  },
  {
   "cell_type": "markdown",
   "metadata": {},
   "source": [
    "Incluso se puede asociar una función anónima con un nombre."
   ]
  },
  {
   "cell_type": "code",
   "execution_count": 52,
   "metadata": {
    "collapsed": false
   },
   "outputs": [
    {
     "name": "stdout",
     "output_type": "stream",
     "text": []
    },
    {
     "data": {
      "text/plain": [
       "#'user/my-special-multiplier 36"
      ]
     },
     "execution_count": 52,
     "metadata": {},
     "output_type": "execute_result"
    }
   ],
   "source": [
    "(def my-special-multiplier (fn [x] (* x 3)))\n",
    "(my-special-multiplier 12)"
   ]
  },
  {
   "cell_type": "markdown",
   "metadata": {},
   "source": [
    "Clojure también ofrece otra forma, más compacta para crear funciones anónimas. Esto es como una función anónima se vería:\n",
    "    #(* % 3)"
   ]
  },
  {
   "cell_type": "code",
   "execution_count": 54,
   "metadata": {
    "collapsed": false
   },
   "outputs": [
    {
     "name": "stdout",
     "output_type": "stream",
     "text": []
    },
    {
     "data": {
      "text/plain": [
       "24"
      ]
     },
     "execution_count": 54,
     "metadata": {},
     "output_type": "execute_result"
    }
   ],
   "source": [
    "(#(* % 3) 8)"
   ]
  },
  {
   "cell_type": "code",
   "execution_count": 55,
   "metadata": {
    "collapsed": false
   },
   "outputs": [
    {
     "name": "stdout",
     "output_type": "stream",
     "text": []
    },
    {
     "data": {
      "text/plain": [
       "(\"Hi, Darth Vader\" \"Hi, Mr. Magoo\")"
      ]
     },
     "execution_count": 55,
     "metadata": {},
     "output_type": "execute_result"
    }
   ],
   "source": [
    "(map #(str \"Hi, \" %)\n",
    "     [\"Darth Vader\" \"Mr. Magoo\"])"
   ]
  },
  {
   "cell_type": "markdown",
   "metadata": {},
   "source": [
    "el signo de porcentaje %, indica el argumento pasado a la función. Si la función anónima toma varios argumentos, puede distinguirlos así: %1, %2, %3, ..., % Es equivalente a 1%:"
   ]
  },
  {
   "cell_type": "code",
   "execution_count": 56,
   "metadata": {
    "collapsed": false
   },
   "outputs": [
    {
     "name": "stdout",
     "output_type": "stream",
     "text": []
    },
    {
     "data": {
      "text/plain": [
       "\"cornbread and butter beans\""
      ]
     },
     "execution_count": 56,
     "metadata": {},
     "output_type": "execute_result"
    }
   ],
   "source": [
    "(#(str %1 \" and \" %2) \"cornbread\" \"butter beans\")"
   ]
  },
  {
   "cell_type": "code",
   "execution_count": 57,
   "metadata": {
    "collapsed": false
   },
   "outputs": [
    {
     "name": "stdout",
     "output_type": "stream",
     "text": []
    },
    {
     "data": {
      "text/plain": [
       "(1 \"blarg\" :yip)"
      ]
     },
     "execution_count": 57,
     "metadata": {},
     "output_type": "execute_result"
    }
   ],
   "source": [
    "(#(identity %&) 1 \"blarg\" :yip)"
   ]
  },
  {
   "cell_type": "markdown",
   "metadata": {},
   "source": [
    "Tambien se puede tener un parametro rest con %& (La funcion Identity devuelve el argumento que se le da sin alterarlo)"
   ]
  },
  {
   "cell_type": "code",
   "execution_count": 58,
   "metadata": {
    "collapsed": false
   },
   "outputs": [
    {
     "name": "stdout",
     "output_type": "stream",
     "text": []
    },
    {
     "data": {
      "text/plain": [
       "(1 \"blarg\" :yip)"
      ]
     },
     "execution_count": 58,
     "metadata": {},
     "output_type": "execute_result"
    }
   ],
   "source": [
    "(#(identity %&) 1 \"blarg\" :yip)"
   ]
  },
  {
   "cell_type": "markdown",
   "metadata": {},
   "source": [
    "## The Shire’s Next Top Model"
   ]
  },
  {
   "cell_type": "markdown",
   "metadata": {},
   "source": [
    "Tenemos un mapa con el cuerpo de un Hobbit pero el cuerpo es simétrico y solo tenemos la parte izquierda del Hobbit, creemos una función para arreglar esto."
   ]
  },
  {
   "cell_type": "code",
   "execution_count": 59,
   "metadata": {
    "collapsed": false
   },
   "outputs": [
    {
     "name": "stdout",
     "output_type": "stream",
     "text": []
    },
    {
     "data": {
      "text/plain": [
       "#'user/asym-hobbit-body-parts"
      ]
     },
     "execution_count": 59,
     "metadata": {},
     "output_type": "execute_result"
    }
   ],
   "source": [
    "(def asym-hobbit-body-parts [{:name \"head\" :size 3}\n",
    "                             {:name \"left-eye\" :size 1}\n",
    "                             {:name \"left-ear\" :size 1}\n",
    "                             {:name \"mouth\" :size 1}\n",
    "                             {:name \"nose\" :size 1}\n",
    "                             {:name \"neck\" :size 2}\n",
    "                             {:name \"left-shoulder\" :size 3}\n",
    "                             {:name \"left-upper-arm\" :size 3}\n",
    "                             {:name \"chest\" :size 10}\n",
    "                             {:name \"back\" :size 10}\n",
    "                             {:name \"left-forearm\" :size 3}\n",
    "                             {:name \"abdomen\" :size 6}\n",
    "                             {:name \"left-kidney\" :size 1}\n",
    "                             {:name \"left-hand\" :size 2}\n",
    "                             {:name \"left-knee\" :size 2}\n",
    "                             {:name \"left-thigh\" :size 4}\n",
    "                             {:name \"left-lower-leg\" :size 3}\n",
    "                             {:name \"left-achilles\" :size 1}\n",
    "                             {:name \"left-foot\" :size 2}])"
   ]
  },
  {
   "cell_type": "markdown",
   "metadata": {},
   "source": [
    "La siguinete funcion recibe el mapa anterior, y agrega la corespondoente parte derecha de cada parte izquierda."
   ]
  },
  {
   "cell_type": "code",
   "execution_count": 60,
   "metadata": {
    "collapsed": false
   },
   "outputs": [
    {
     "name": "stdout",
     "output_type": "stream",
     "text": []
    },
    {
     "data": {
      "text/plain": [
       "#'user/matching-part #'user/symmetrize-body-parts"
      ]
     },
     "execution_count": 60,
     "metadata": {},
     "output_type": "execute_result"
    }
   ],
   "source": [
    "(defn matching-part\n",
    "  [part]\n",
    "  {:name (clojure.string/replace (:name part) #\"^left-\" \"right-\")\n",
    "   :size (:size part)})\n",
    "\n",
    "(defn symmetrize-body-parts\n",
    "  \"Expects a seq of maps that have a :name and :size\"\n",
    "  [asym-body-parts]\n",
    "  (loop [remaining-asym-parts asym-body-parts\n",
    "         final-body-parts []]\n",
    "         \n",
    "    (if (empty? remaining-asym-parts)\n",
    "      final-body-parts\n",
    "      \n",
    "      (let [[part & remaining] remaining-asym-parts]\n",
    "        (recur remaining\n",
    "               (into final-body-parts\n",
    "                     (set [part (matching-part part)])))))))"
   ]
  },
  {
   "cell_type": "code",
   "execution_count": null,
   "metadata": {
    "collapsed": true
   },
   "outputs": [],
   "source": [
    "(symmetrize-body-parts asym-hobbit-body-parts)"
   ]
  },
  {
   "cell_type": "markdown",
   "metadata": {},
   "source": [
    "    Resultado\n",
    "      {:name \"left-eye\", :size 1}\n",
    "      {:name \"right-eye\", :size 1}\n",
    "      {:name \"left-ear\", :size 1}\n",
    "      {:name \"right-ear\", :size 1}\n",
    "      {:name \"mouth\", :size 1}\n",
    "      {:name \"nose\", :size 1}\n",
    "      {:name \"neck\", :size 2}\n",
    "      {:name \"left-shoulder\", :size 3}\n",
    "      {:name \"right-shoulder\", :size 3}\n",
    "      {:name \"left-upper-arm\", :size 3}\n",
    "      {:name \"right-upper-arm\", :size 3}\n",
    "      {:name \"chest\", :size 10}\n",
    "      {:name \"back\", :size 10}\n",
    "      {:name \"left-forearm\", :size 3}\n",
    "      {:name \"right-forearm\", :size 3}\n",
    "      {:name \"abdomen\", :size 6}\n",
    "      {:name \"left-kidney\", :size 1}\n",
    "      {:name \"right-kidney\", :size 1}\n",
    "      {:name \"left-hand\", :size 2}\n",
    "      {:name \"right-hand\", :size 2}\n",
    "      {:name \"left-knee\", :size 2}\n",
    "      {:name \"right-knee\", :size 2}\n",
    "      {:name \"left-thigh\", :size 4}\n",
    "      {:name \"right-thigh\", :size 4}\n",
    "      {:name \"left-lower-leg\", :size 3}\n",
    "      {:name \"right-lower-leg\", :size 3}\n",
    "      {:name \"left-achilles\", :size 1}\n",
    "      {:name \"right-achilles\", :size 1}\n",
    "      {:name \"left-foot\", :size 2}\n",
    "      {:name \"right-foot\", :size 2}]"
   ]
  },
  {
   "cell_type": "markdown",
   "metadata": {},
   "source": [
    "### Funciones utilizadas."
   ]
  },
  {
   "cell_type": "markdown",
   "metadata": {},
   "source": [
    "### let"
   ]
  },
  {
   "cell_type": "markdown",
   "metadata": {},
   "source": [
    "let asigna valores a nombres dentor de un scope nuevo."
   ]
  },
  {
   "cell_type": "code",
   "execution_count": 67,
   "metadata": {
    "collapsed": false
   },
   "outputs": [
    {
     "name": "stdout",
     "output_type": "stream",
     "text": []
    },
    {
     "data": {
      "text/plain": [
       "3"
      ]
     },
     "execution_count": 67,
     "metadata": {},
     "output_type": "execute_result"
    }
   ],
   "source": [
    "(let [x 3] x)"
   ]
  },
  {
   "cell_type": "code",
   "execution_count": 63,
   "metadata": {
    "collapsed": false
   },
   "outputs": [
    {
     "name": "stdout",
     "output_type": "stream",
     "text": []
    },
    {
     "data": {
      "text/plain": [
       "#'user/dalmatian-list (\"Pongo\" \"Perdita\")"
      ]
     },
     "execution_count": 63,
     "metadata": {},
     "output_type": "execute_result"
    }
   ],
   "source": [
    "(def dalmatian-list\n",
    "  [\"Pongo\" \"Perdita\" \"Puppy 1\" \"Puppy 2\"])\n",
    "(let [dalmatians (take 2 dalmatian-list)]\n",
    "  dalmatians)"
   ]
  },
  {
   "cell_type": "code",
   "execution_count": 64,
   "metadata": {
    "collapsed": false
   },
   "outputs": [
    {
     "name": "stdout",
     "output_type": "stream",
     "text": []
    },
    {
     "data": {
      "text/plain": [
       "#'user/x 1"
      ]
     },
     "execution_count": 64,
     "metadata": {},
     "output_type": "execute_result"
    }
   ],
   "source": [
    "(def x 0)\n",
    "(let [x (inc x)] x)"
   ]
  },
  {
   "cell_type": "code",
   "execution_count": 68,
   "metadata": {
    "collapsed": false
   },
   "outputs": [
    {
     "name": "stdout",
     "output_type": "stream",
     "text": []
    },
    {
     "data": {
      "text/plain": [
       "[\"Pongo\" (\"Perdita\" \"Puppy 1\" \"Puppy 2\")]"
      ]
     },
     "execution_count": 68,
     "metadata": {},
     "output_type": "execute_result"
    }
   ],
   "source": [
    "(let [[pongo & dalmatians] dalmatian-list]\n",
    "  [pongo dalmatians])"
   ]
  },
  {
   "cell_type": "markdown",
   "metadata": {},
   "source": [
    "### into"
   ]
  },
  {
   "cell_type": "markdown",
   "metadata": {},
   "source": [
    "into permite agregar alementos a un vector desde un set."
   ]
  },
  {
   "cell_type": "code",
   "execution_count": 69,
   "metadata": {
    "collapsed": false
   },
   "outputs": [
    {
     "name": "stdout",
     "output_type": "stream",
     "text": []
    },
    {
     "data": {
      "text/plain": [
       "[:a]"
      ]
     },
     "execution_count": 69,
     "metadata": {},
     "output_type": "execute_result"
    }
   ],
   "source": [
    "(into [] (set [:a :a]))"
   ]
  },
  {
   "cell_type": "markdown",
   "metadata": {},
   "source": [
    "### loop"
   ]
  },
  {
   "cell_type": "markdown",
   "metadata": {},
   "source": [
    "La siguiente funcion se puede ver como si Cloujure creara una funcion anonima con un parametro iteracion y recur permite llamar la función desde sí misma, pasando el argumento (inc iteration)"
   ]
  },
  {
   "cell_type": "markdown",
   "metadata": {},
   "source": [
    "(loop [iteration 0]\n",
    "  (println (str \"Iteration \" iteration))\n",
    "  (if (> iteration 3)\n",
    "   (println \"Goodbye!\")\n",
    "   (recur (inc iteration) ) ) \n",
    "   )\n",
    "    \n",
    "    ; => Iteration 0\n",
    "    ; => Iteration 1\n",
    "    ; => Iteration 2\n",
    "    ; => Iteration 3\n",
    "    ; => Iteration 4\n",
    "    ; => Goodbye!"
   ]
  },
  {
   "cell_type": "markdown",
   "metadata": {},
   "source": [
    "(defn recursive-printer\n",
    "  ([]\n",
    "   (recursive-printer 0))\n",
    "   \n",
    "  ([iteration]\n",
    "     (println iteration)\n",
    "     (if (> iteration 3)\n",
    "       (println \"Goodbye!\")\n",
    "       (recursive-printer (inc iteration)))))\n",
    "(recursive-printer)"
   ]
  },
  {
   "cell_type": "markdown",
   "metadata": {},
   "source": [
    "### Regular Expressions"
   ]
  },
  {
   "cell_type": "markdown",
   "metadata": {},
   "source": [
    "La notación literal de una expresión regular es colocar la expresión entre comillas detrás de un numeral:\n",
    "    #\"regular-expression\"\n",
    "la funcion re-find permite establecer si una cadena cumple cierta expresion.\n",
    "El caracter ^ mira si la expresion se encuentra en el inicio de la cadena"
   ]
  },
  {
   "cell_type": "code",
   "execution_count": 71,
   "metadata": {
    "collapsed": false
   },
   "outputs": [
    {
     "name": "stdout",
     "output_type": "stream",
     "text": []
    },
    {
     "data": {
      "text/plain": [
       "\"left-\" nil nil"
      ]
     },
     "execution_count": 71,
     "metadata": {},
     "output_type": "execute_result"
    }
   ],
   "source": [
    "(re-find #\"^left-\" \"left-eye\")\n",
    "; => \"left-\"\n",
    "\n",
    "(re-find #\"^left-\" \"cleft-chin\")\n",
    "; => nil\n",
    "\n",
    "(re-find #\"^left-\" \"wongleblart\")"
   ]
  },
  {
   "cell_type": "code",
   "execution_count": 72,
   "metadata": {
    "collapsed": false
   },
   "outputs": [
    {
     "name": "stdout",
     "output_type": "stream",
     "text": []
    },
    {
     "data": {
      "text/plain": [
       "#'user/matching-part {:name \"right-eye\", :size 1}"
      ]
     },
     "execution_count": 72,
     "metadata": {},
     "output_type": "execute_result"
    }
   ],
   "source": [
    "(defn matching-part\n",
    "  [part]\n",
    "  {:name (clojure.string/replace (:name part) #\"^left-\" \"right-\")\n",
    "   :size (:size part)})\n",
    "   \n",
    "(matching-part {:name \"left-eye\" :size 1})"
   ]
  },
  {
   "cell_type": "code",
   "execution_count": 73,
   "metadata": {
    "collapsed": false
   },
   "outputs": [
    {
     "name": "stdout",
     "output_type": "stream",
     "text": []
    },
    {
     "data": {
      "text/plain": [
       "{:name \"head\", :size 3}"
      ]
     },
     "execution_count": 73,
     "metadata": {},
     "output_type": "execute_result"
    }
   ],
   "source": [
    "(matching-part {:name \"head\" :size 3})"
   ]
  },
  {
   "cell_type": "markdown",
   "metadata": {},
   "source": [
    "## reduce"
   ]
  },
  {
   "cell_type": "markdown",
   "metadata": {},
   "source": [
    "El patrón de procesar cada elemento de una secuencia y retornar un resultado es tan común que hay una función integrada para ello que se llama reduce:"
   ]
  },
  {
   "cell_type": "code",
   "execution_count": 74,
   "metadata": {
    "collapsed": false
   },
   "outputs": [
    {
     "name": "stdout",
     "output_type": "stream",
     "text": []
    },
    {
     "data": {
      "text/plain": [
       "10"
      ]
     },
     "execution_count": 74,
     "metadata": {},
     "output_type": "execute_result"
    }
   ],
   "source": [
    "(reduce + [1 2 3 4])"
   ]
  },
  {
   "cell_type": "markdown",
   "metadata": {},
   "source": [
    "Esto es equivalente a"
   ]
  },
  {
   "cell_type": "code",
   "execution_count": 75,
   "metadata": {
    "collapsed": false
   },
   "outputs": [
    {
     "name": "stdout",
     "output_type": "stream",
     "text": []
    },
    {
     "data": {
      "text/plain": [
       "10"
      ]
     },
     "execution_count": 75,
     "metadata": {},
     "output_type": "execute_result"
    }
   ],
   "source": [
    "(+ (+ (+ 1 2) 3) 4)"
   ]
  },
  {
   "cell_type": "markdown",
   "metadata": {},
   "source": [
    "reduce toma los dos primeros valores de la secuencia, aplica la funcion, y el resultado lo vuelve a ejecutar con el siguinente elemento para cada uno de la secuencia.\n",
    "reduce tambien puede tomar un valor inicial, por lo cual al inicio, ya no se toman los dos primeros elementos, si no, solo el primero:"
   ]
  },
  {
   "cell_type": "code",
   "execution_count": 76,
   "metadata": {
    "collapsed": false,
    "scrolled": true
   },
   "outputs": [
    {
     "name": "stdout",
     "output_type": "stream",
     "text": []
    },
    {
     "data": {
      "text/plain": [
       "25"
      ]
     },
     "execution_count": 76,
     "metadata": {},
     "output_type": "execute_result"
    }
   ],
   "source": [
    "(reduce + 15 [1 2 3 4])"
   ]
  },
  {
   "cell_type": "markdown",
   "metadata": {},
   "source": [
    "La funcion symmetrize-body-parts se puede escribir mucho  más corta y expresivamente con reduce:"
   ]
  },
  {
   "cell_type": "code",
   "execution_count": 77,
   "metadata": {
    "collapsed": false
   },
   "outputs": [
    {
     "name": "stdout",
     "output_type": "stream",
     "text": []
    },
    {
     "data": {
      "text/plain": [
       "#'user/better-symmetrize-body-parts"
      ]
     },
     "execution_count": 77,
     "metadata": {},
     "output_type": "execute_result"
    }
   ],
   "source": [
    "(defn better-symmetrize-body-parts\n",
    "  \"Expects a seq of maps that have a :name and :size\"\n",
    "  [asym-body-parts]\n",
    "  (reduce (fn [final-body-parts part]\n",
    "            (into final-body-parts (set [part (matching-part part)])))\n",
    "          []\n",
    "          asym-body-parts))"
   ]
  },
  {
   "cell_type": "markdown",
   "metadata": {},
   "source": [
    "## Hobbit Violence"
   ]
  },
  {
   "cell_type": "markdown",
   "metadata": {},
   "source": [
    "La siguiente funcion golpea una parte del cuerpo de un Hobbit aleatoriamente. cada parte del cuerpo tendra un rango de tiro que es igual al tamaño de la parte del cuerpo, se escoge una numero aleatorio (target) entre la suma del tamaño de todas las partes y se va sumando el tamaño de partes aleatorias, cuando esta suma es mayor al target, es porque esa parte del cuerpo está en el rango de tiro y ah sido golpeada. "
   ]
  },
  {
   "cell_type": "code",
   "execution_count": 78,
   "metadata": {
    "collapsed": false
   },
   "outputs": [
    {
     "name": "stdout",
     "output_type": "stream",
     "text": []
    },
    {
     "data": {
      "text/plain": [
       "#'user/hit"
      ]
     },
     "execution_count": 78,
     "metadata": {},
     "output_type": "execute_result"
    }
   ],
   "source": [
    "(defn hit\n",
    "  [asym-body-parts]\n",
    "  (let [sym-parts (better-symmetrize-body-parts asym-body-parts)\n",
    "        body-part-size-sum (reduce + (map :size sym-parts))\n",
    "        target (rand body-part-size-sum)]\n",
    "    (loop [[part & remaining] sym-parts\n",
    "           accumulated-size (:size part)]\n",
    "      (if (> accumulated-size target)\n",
    "        part\n",
    "        (recur remaining (+ accumulated-size (:size (first remaining))))))))"
   ]
  },
  {
   "cell_type": "code",
   "execution_count": 79,
   "metadata": {
    "collapsed": false
   },
   "outputs": [
    {
     "name": "stdout",
     "output_type": "stream",
     "text": []
    },
    {
     "data": {
      "text/plain": [
       "{:name \"right-shoulder\", :size 3}"
      ]
     },
     "execution_count": 79,
     "metadata": {},
     "output_type": "execute_result"
    }
   ],
   "source": [
    "(hit asym-hobbit-body-parts)"
   ]
  },
  {
   "cell_type": "code",
   "execution_count": 80,
   "metadata": {
    "collapsed": false
   },
   "outputs": [
    {
     "name": "stdout",
     "output_type": "stream",
     "text": []
    },
    {
     "data": {
      "text/plain": [
       "{:name \"left-forearm\", :size 3}"
      ]
     },
     "execution_count": 80,
     "metadata": {},
     "output_type": "execute_result"
    }
   ],
   "source": [
    "(hit asym-hobbit-body-parts)"
   ]
  },
  {
   "cell_type": "code",
   "execution_count": 81,
   "metadata": {
    "collapsed": false
   },
   "outputs": [
    {
     "name": "stdout",
     "output_type": "stream",
     "text": []
    },
    {
     "data": {
      "text/plain": [
       "{:name \"chest\", :size 10}"
      ]
     },
     "execution_count": 81,
     "metadata": {},
     "output_type": "execute_result"
    }
   ],
   "source": [
    "(hit asym-hobbit-body-parts)"
   ]
  }
 ],
 "metadata": {
  "kernelspec": {
   "display_name": "Clojure",
   "language": "clojure",
   "name": "clojure"
  }
 },
 "nbformat": 4,
 "nbformat_minor": 0
}
