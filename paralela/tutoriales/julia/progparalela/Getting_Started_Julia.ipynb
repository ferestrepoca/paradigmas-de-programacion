{
 "cells": [
  {
   "cell_type": "markdown",
   "metadata": {},
   "source": [
    "<img style=\"width:50%\" src=\"julia.png\">"
   ]
  },
  {
   "cell_type": "markdown",
   "metadata": {},
   "source": [
    "# PRIMEROS PASOS."
   ]
  },
  {
   "cell_type": "markdown",
   "metadata": {},
   "source": [
    "## Introducción\n",
    "Como aspecto para poder mostrar los resultados en el notebook se va a empezar explicando la forma de mostrar mensajes en pantalla con el comando println()"
   ]
  },
  {
   "cell_type": "code",
   "execution_count": null,
   "metadata": {
    "collapsed": false
   },
   "outputs": [],
   "source": [
    "println(\"Hello Julia!\")"
   ]
  },
  {
   "cell_type": "markdown",
   "metadata": {},
   "source": [
    "Los comentarios de una sola linea empiezan con #, mientras que los multilinea empiezan con #= y terminan con =#"
   ]
  },
  {
   "cell_type": "code",
   "execution_count": 31,
   "metadata": {
    "collapsed": false
   },
   "outputs": [
    {
     "name": "stdout",
     "output_type": "stream",
     "text": [
      "Este si\n"
     ]
    }
   ],
   "source": [
    "println(\"Este si\")\n",
    "# println(\"Este no\")\n",
    "#=\n",
    "println(\"Mucho menos\")\n",
    "println(\"estos dos\")\n",
    "=#"
   ]
  },
  {
   "cell_type": "markdown",
   "metadata": {},
   "source": [
    "## 1. Variables\n",
    "### Como tal las variables se refieren a un nombre asociado a un valor\n",
    "No deben ser tipadas por lo que no deben ser asignadas antes de asignarlas"
   ]
  },
  {
   "cell_type": "code",
   "execution_count": 1,
   "metadata": {
    "collapsed": false,
    "scrolled": true
   },
   "outputs": [
    {
     "name": "stdout",
     "output_type": "stream",
     "text": [
      "5\n",
      "Hello Julia\n",
      "4.914\n",
      "En realidad si lo es\n"
     ]
    }
   ],
   "source": [
    "some_var = 5\n",
    "x = \"Hello Julia\"\n",
    "X = 4.914\n",
    "esta!esUna_cadena = \"En realidad si lo es\"\n",
    "println(some_var)\n",
    "println(x)\n",
    "println(X)\n",
    "println(esta!esUna_cadena)"
   ]
  },
  {
   "cell_type": "markdown",
   "metadata": {},
   "source": [
    "### Sin embargo intentar acceder a una variable que aun no ha sido creada, genera error."
   ]
  },
  {
   "cell_type": "code",
   "execution_count": 2,
   "metadata": {
    "collapsed": false
   },
   "outputs": [
    {
     "name": "stdout",
     "output_type": "stream",
     "text": [
      "UndefVarError(:som_other_var)\n"
     ]
    }
   ],
   "source": [
    "try\n",
    "    som_other_var\n",
    "catch e\n",
    "    println(e)\n",
    "end"
   ]
  },
  {
   "cell_type": "markdown",
   "metadata": {},
   "source": [
    "### Además Julia permite asignar nombres \"unicode\" a las variables y sobreescribir el valores de las constantes y de funciones.\n",
    "Para poder asignar nombres de esta manera es necesario escrbir el simbolo de LaTeX seguido de la tecla tab."
   ]
  },
  {
   "cell_type": "code",
   "execution_count": 3,
   "metadata": {
    "collapsed": false
   },
   "outputs": [
    {
     "name": "stdout",
     "output_type": "stream",
     "text": [
      "4.5\n",
      "π = 3.1415926535897...\n",
      "Ya no es un numero\n"
     ]
    },
    {
     "name": "stderr",
     "output_type": "stream",
     "text": [
      "WARNING: imported binding for pi overwritten in module Main\n"
     ]
    }
   ],
   "source": [
    "δ = 4.5\n",
    "println(δ) \n",
    "println(pi)\n",
    "pi = \"Ya no es un numero\"\n",
    "println(pi)"
   ]
  },
  {
   "cell_type": "markdown",
   "metadata": {},
   "source": [
    "## 2. Tipos numéricos"
   ]
  },
  {
   "cell_type": "markdown",
   "metadata": {},
   "source": [
    "### Enteros"
   ]
  },
  {
   "cell_type": "code",
   "execution_count": 4,
   "metadata": {
    "collapsed": false
   },
   "outputs": [
    {
     "data": {
      "text/plain": [
       "64"
      ]
     },
     "execution_count": 4,
     "metadata": {},
     "output_type": "execute_result"
    }
   ],
   "source": [
    "WORD_SIZE"
   ]
  },
  {
   "cell_type": "markdown",
   "metadata": {},
   "source": [
    "### Float"
   ]
  },
  {
   "cell_type": "code",
   "execution_count": 5,
   "metadata": {
    "collapsed": false
   },
   "outputs": [
    {
     "name": "stdout",
     "output_type": "stream",
     "text": [
      "1.0\n",
      "4.0\n",
      "0.5\n",
      "1.0e10\n",
      "0.00025\n",
      "-4.0e-11\n"
     ]
    }
   ],
   "source": [
    "g = 1.0\n",
    "m = 4.\n",
    "e = .5\n",
    "G = 1e10\n",
    "M = 2.5e-4\n",
    "E = -.4e-10\n",
    "println(g)\n",
    "println(m)\n",
    "println(e)\n",
    "println(G)\n",
    "println(M)\n",
    "println(E)"
   ]
  },
  {
   "cell_type": "code",
   "execution_count": 6,
   "metadata": {
    "collapsed": false
   },
   "outputs": [
    {
     "name": "stdout",
     "output_type": "stream",
     "text": [
      "Int64\n",
      "Float64\n",
      "Float64\n"
     ]
    }
   ],
   "source": [
    "println(typeof(WORD_SIZE))\n",
    "println(typeof(g))\n",
    "println(typeof(E))"
   ]
  },
  {
   "cell_type": "code",
   "execution_count": 7,
   "metadata": {
    "collapsed": false
   },
   "outputs": [
    {
     "name": "stdout",
     "output_type": "stream",
     "text": [
      "0.0\n",
      "Inf\n",
      "NaN\n"
     ]
    }
   ],
   "source": [
    "println(1/Inf)\n",
    "println(1/0)\n",
    "println(0/0)"
   ]
  },
  {
   "cell_type": "markdown",
   "metadata": {},
   "source": [
    "### Complejos"
   ]
  },
  {
   "cell_type": "code",
   "execution_count": 9,
   "metadata": {
    "collapsed": false
   },
   "outputs": [
    {
     "name": "stdout",
     "output_type": "stream",
     "text": [
      "0.0 + 2.0im\n",
      "-7 - 4im\n"
     ]
    }
   ],
   "source": [
    "println(sqrt(complex(-4)))\n",
    "println((1+2im)*(-3+2im))"
   ]
  },
  {
   "cell_type": "markdown",
   "metadata": {},
   "source": [
    "### Racionales"
   ]
  },
  {
   "cell_type": "code",
   "execution_count": 10,
   "metadata": {
    "collapsed": false
   },
   "outputs": [
    {
     "name": "stdout",
     "output_type": "stream",
     "text": [
      "2//3\n",
      "2//3\n",
      "-1//2\n",
      "1//3\n",
      "3\n",
      "2\n"
     ]
    }
   ],
   "source": [
    "println(2//3)\n",
    "println(6//9)\n",
    "println(-4//8)\n",
    "println(-4//-12)\n",
    "println(den(2//3))\n",
    "println(num(2//3))"
   ]
  },
  {
   "cell_type": "markdown",
   "metadata": {
    "collapsed": true
   },
   "source": [
    "## 3.Operadores"
   ]
  },
  {
   "cell_type": "markdown",
   "metadata": {
    "collapsed": true
   },
   "source": [
    "### Operadores Aritméticos"
   ]
  },
  {
   "cell_type": "code",
   "execution_count": 11,
   "metadata": {
    "collapsed": false
   },
   "outputs": [
    {
     "name": "stdout",
     "output_type": "stream",
     "text": [
      "6\n",
      "-1\n",
      "0.5\n"
     ]
    }
   ],
   "source": [
    "println(1+2+3)\n",
    "println(1-2)\n",
    "println(3*2/12)"
   ]
  },
  {
   "cell_type": "markdown",
   "metadata": {},
   "source": [
    "### Operadores bit a bit"
   ]
  },
  {
   "cell_type": "code",
   "execution_count": 12,
   "metadata": {
    "collapsed": false
   },
   "outputs": [
    {
     "name": "stdout",
     "output_type": "stream",
     "text": [
      "-124\n",
      "106\n",
      "251\n"
     ]
    }
   ],
   "source": [
    "println(~123)\n",
    "println(123&234)\n",
    "println(123|234)"
   ]
  },
  {
   "cell_type": "markdown",
   "metadata": {},
   "source": [
    "### Operadores de actualización"
   ]
  },
  {
   "cell_type": "code",
   "execution_count": 13,
   "metadata": {
    "collapsed": false
   },
   "outputs": [
    {
     "name": "stdout",
     "output_type": "stream",
     "text": [
      "4\n"
     ]
    }
   ],
   "source": [
    "x = 1\n",
    "x += 3\n",
    "println(x)"
   ]
  },
  {
   "cell_type": "markdown",
   "metadata": {},
   "source": [
    "### Comparaciones numéricas"
   ]
  },
  {
   "cell_type": "code",
   "execution_count": 16,
   "metadata": {
    "collapsed": false
   },
   "outputs": [
    {
     "name": "stdout",
     "output_type": "stream",
     "text": [
      "true\n",
      "false\n",
      "false\n",
      "true\n"
     ]
    }
   ],
   "source": [
    "println(1==1)\n",
    "println(1==2)\n",
    "println(1!=1)\n",
    "println(1==1.0)"
   ]
  },
  {
   "cell_type": "markdown",
   "metadata": {},
   "source": [
    "### Conversiones numéricas"
   ]
  },
  {
   "cell_type": "code",
   "execution_count": 17,
   "metadata": {
    "collapsed": false
   },
   "outputs": [
    {
     "name": "stdout",
     "output_type": "stream",
     "text": [
      "127\n"
     ]
    },
    {
     "ename": "LoadError",
     "evalue": "LoadError: InexactError()\nwhile loading In[17], in expression starting on line 2",
     "output_type": "error",
     "traceback": [
      "LoadError: InexactError()\nwhile loading In[17], in expression starting on line 2",
      "",
      " in call at essentials.jl:56"
     ]
    }
   ],
   "source": [
    "println(Int8(127))\n",
    "println(Int8(128))\n",
    "println(Int8(127.0))\n",
    "println(Int8(3.14165))"
   ]
  },
  {
   "cell_type": "markdown",
   "metadata": {},
   "source": [
    "### Funciones elementales"
   ]
  },
  {
   "cell_type": "code",
   "execution_count": 28,
   "metadata": {
    "collapsed": false
   },
   "outputs": [
    {
     "name": "stdout",
     "output_type": "stream",
     "text": [
      "---Redondeo\n",
      "3.0\n",
      "4.0\n",
      "3.0\n",
      "---Divisiones\n",
      "0\n",
      "1\n",
      "---Valor absoluto\n",
      "3.14165\n",
      "9.869964722499999\n",
      "---Funciones matemáticas\n",
      "15241578750190521\n",
      "1.23456789e8\n",
      "10.0\n"
     ]
    }
   ],
   "source": [
    "println(\"---Redondeo\")\n",
    "println(round(3.14165))\n",
    "println(ceil(3.14165))\n",
    "println(floor(3.14165))\n",
    "println(\"---Divisiones\")\n",
    "println(fld(3,4))\n",
    "println(cld(3,4))\n",
    "println(\"---Valor absoluto\")\n",
    "println(abs(-3.14165))\n",
    "println(abs2(-3.14165))\n",
    "println(\"---Funciones matemáticas\")\n",
    "println(123456789^2)\n",
    "println(sqrt(15241578750190521))\n",
    "println(log2(1024))\n"
   ]
  },
  {
   "cell_type": "markdown",
   "metadata": {},
   "source": [
    "## 4. Colecciones"
   ]
  },
  {
   "cell_type": "markdown",
   "metadata": {},
   "source": [
    "### Listas\n",
    "#### Sobre las listas es necesario tener en cuenta que el indice va desde 1 hasta n"
   ]
  },
  {
   "cell_type": "code",
   "execution_count": 32,
   "metadata": {
    "collapsed": false
   },
   "outputs": [
    {
     "data": {
      "text/plain": [
       "1"
      ]
     },
     "execution_count": 32,
     "metadata": {},
     "output_type": "execute_result"
    }
   ],
   "source": [
    "a = Int64[]  # arreglo vacio\n",
    "push!(a,1)   # => [1]\n",
    "push!(a,2)   # => [1,2]\n",
    "a[1]"
   ]
  },
  {
   "cell_type": "markdown",
   "metadata": {},
   "source": [
    "#### La instanciación puede indicar el tipo o dejarlo de manera automática"
   ]
  },
  {
   "cell_type": "code",
   "execution_count": 33,
   "metadata": {
    "collapsed": false
   },
   "outputs": [
    {
     "name": "stdout",
     "output_type": "stream",
     "text": [
      "4\n",
      "6\n"
     ]
    }
   ],
   "source": [
    "b = [4, 5, 6]     # => Int64 [4, 5, 6]\n",
    "b = [4; 5; 6]     # => Int64 [4, 5, 6]\n",
    "b = Int8[4, 5, 6] # => Int8  [4, 5, 6]\n",
    "println(b[1])   # => 4\n",
    "println(b[end]) # => 6"
   ]
  },
  {
   "cell_type": "markdown",
   "metadata": {},
   "source": [
    "#### El signo de exclamación ! al final de una función indica que esta modifica el estado de los parámetros"
   ]
  },
  {
   "cell_type": "code",
   "execution_count": 37,
   "metadata": {
    "collapsed": false
   },
   "outputs": [
    {
     "name": "stdout",
     "output_type": "stream",
     "text": [
      "[4,5,6]\n",
      "[4,5,6]\n"
     ]
    }
   ],
   "source": [
    "arr = [5,4,6]\n",
    "arr1 = [4,5,6]\n",
    "println(sort(arr))\n",
    "println(sort!(arr1))"
   ]
  },
  {
   "cell_type": "markdown",
   "metadata": {},
   "source": [
    "#### Los arreglos pueden ser creados a partir de rangos, y para acceder a estos puede igual hacerse por rangos (slice)"
   ]
  },
  {
   "cell_type": "code",
   "execution_count": 40,
   "metadata": {
    "collapsed": false
   },
   "outputs": [
    {
     "name": "stdout",
     "output_type": "stream",
     "text": [
      "[1,2,3,4,5]\n",
      "[1,2,3]\n",
      "[2,3,4,5]\n"
     ]
    }
   ],
   "source": [
    "a = [1:5;] # => Int64 [1,2,3,4,5]\n",
    "println(a)\n",
    "println(a[1:3])\n",
    "println(a[2:end])"
   ]
  },
  {
   "cell_type": "markdown",
   "metadata": {},
   "source": [
    "### Los métodos más comunes para listas son:\n",
    "\n",
    "  - __push!(arr, elm)__: agrega el elemento _elm_ al final del arreglo _arr_\n",
    "  - __pop!(arr)__: elimina y retorna el elemento final del arreglo _arr_\n",
    "  - __shift!(arr)__: elimina y retorna el primer elemento del arreglo _arr_\n",
    "  - __unshift!(arr, elm)__: agrega el elemento _elm_ al principio del arreglo _arr_\n",
    "  - __sort!(arr)__: ordena de forma ascendente el arreglo _arr_\n",
    "  - __splice!(arr, pos)__: elimina y retorna el elemento del arreglo _arr_ en la posición _pos_\n",
    "  - __append!(arr1, arr2)__: concatena los arreglos _arr1_ y _arr2_\n",
    "  - __in(elm, arr)__: revisa si el elemento _elm_ pertence al arreglo _arr_\n",
    "  - __lenght(arr)__: devuelve la cantidad de elementos en el arreglo _arr_\n",
    "\n",
    "### Tuplas\n",
    "#### Las **tuplas** se comportan de manera similar a las listas, con la excepción de que son inmutables."
   ]
  },
  {
   "cell_type": "code",
   "execution_count": 42,
   "metadata": {
    "collapsed": false
   },
   "outputs": [
    {
     "data": {
      "text/plain": [
       "(1,2,3)"
      ]
     },
     "execution_count": 42,
     "metadata": {},
     "output_type": "execute_result"
    }
   ],
   "source": [
    "tupla = (1, 2, 3)\n",
    "otra_tupla = 1, 2, 3"
   ]
  },
  {
   "cell_type": "markdown",
   "metadata": {},
   "source": [
    "### Diccionarios\n",
    "#### Para el uso de diccionarios, su instanciación puede ser vacía o con objetos"
   ]
  },
  {
   "cell_type": "code",
   "execution_count": 43,
   "metadata": {
    "collapsed": false
   },
   "outputs": [
    {
     "data": {
      "text/plain": [
       "Dict{ASCIIString,Int64} with 3 entries:\n",
       "  \"two\"   => 2\n",
       "  \"one\"   => 1\n",
       "  \"three\" => 3"
      ]
     },
     "execution_count": 43,
     "metadata": {},
     "output_type": "execute_result"
    }
   ],
   "source": [
    "empty_dict = Dict() # instanciación vacía\n",
    "filled_dict = Dict(\"one\"=> 1, \"two\"=> 2, \"three\"=> 3) # instanciación con elementos"
   ]
  },
  {
   "cell_type": "markdown",
   "metadata": {},
   "source": [
    "#### Para acceder a las llaves y valores como listas de un diccionario"
   ]
  },
  {
   "cell_type": "code",
   "execution_count": 45,
   "metadata": {
    "collapsed": false
   },
   "outputs": [
    {
     "name": "stdout",
     "output_type": "stream",
     "text": [
      "ASCIIString[\"two\",\"one\",\"three\"]\n",
      "[2,1,3]\n"
     ]
    }
   ],
   "source": [
    "println(keys(filled_dict))\n",
    "println(values(filled_dict))"
   ]
  },
  {
   "cell_type": "markdown",
   "metadata": {},
   "source": [
    "#### Se puede saber si una llave o una llave-valor hacen parte del diccionario"
   ]
  },
  {
   "cell_type": "code",
   "execution_count": 49,
   "metadata": {
    "collapsed": false
   },
   "outputs": [
    {
     "name": "stdout",
     "output_type": "stream",
     "text": [
      "true\n",
      "false\n",
      "true\n",
      "false\n"
     ]
    }
   ],
   "source": [
    "println(in((\"one\" => 1), filled_dict)) # => true\n",
    "println(in((\"two\" => 3), filled_dict)) # => false\n",
    "println(haskey(filled_dict, \"one\")) # => true\n",
    "println(haskey(filled_dict, 1)) # => false"
   ]
  },
  {
   "cell_type": "markdown",
   "metadata": {},
   "source": [
    "### Conjuntos (Set)\n",
    "#### Se pueden hacer listas desordenadas sin elementos repetidos de la siguiente forma"
   ]
  },
  {
   "cell_type": "code",
   "execution_count": 50,
   "metadata": {
    "collapsed": false
   },
   "outputs": [
    {
     "data": {
      "text/plain": [
       "Set([4,2,3,1])"
      ]
     },
     "execution_count": 50,
     "metadata": {},
     "output_type": "execute_result"
    }
   ],
   "source": [
    "empty_set = Set() # => Set{Any}()\n",
    "filled_set = Set([1,2,2,3,4]) # => Set{Int64}(1,2,3,4)"
   ]
  },
  {
   "cell_type": "markdown",
   "metadata": {},
   "source": [
    "## 5. Funciones\n",
    "### En Julia, una función es un objeto que mapea una tupla de valores (argumentos) a un valor de retorno.\n",
    "Las funciones en Julia no son funciones matemáticas puramente, en este sentido las funciones pueden alterar y ser afectadas por el estado global del programa."
   ]
  },
  {
   "cell_type": "markdown",
   "metadata": {},
   "source": [
    "### Sintaxis"
   ]
  },
  {
   "cell_type": "code",
   "execution_count": 60,
   "metadata": {
    "collapsed": false
   },
   "outputs": [
    {
     "name": "stdout",
     "output_type": "stream",
     "text": [
      "5\n",
      "6\n"
     ]
    }
   ],
   "source": [
    "function f(x,y)\n",
    "    x + y\n",
    "end\n",
    "\n",
    "f_prod(x,y) = x * y # => \"f_prod (generic function with 1 method)\""
   ]
  },
  {
   "cell_type": "markdown",
   "metadata": {},
   "source": [
    "### Llamado de una Función"
   ]
  },
  {
   "cell_type": "code",
   "execution_count": 61,
   "metadata": {
    "collapsed": false
   },
   "outputs": [
    {
     "name": "stdout",
     "output_type": "stream",
     "text": [
      "5\n"
     ]
    }
   ],
   "source": [
    "println(f(2,3))"
   ]
  },
  {
   "cell_type": "code",
   "execution_count": 62,
   "metadata": {
    "collapsed": false
   },
   "outputs": [
    {
     "name": "stdout",
     "output_type": "stream",
     "text": [
      "6\n"
     ]
    }
   ],
   "source": [
    "println(f_prod(2,3))"
   ]
  },
  {
   "cell_type": "code",
   "execution_count": 63,
   "metadata": {
    "collapsed": false
   },
   "outputs": [
    {
     "name": "stdout",
     "output_type": "stream",
     "text": [
      "5\n"
     ]
    }
   ],
   "source": [
    "g = f;\n",
    "println(g(2,3))"
   ]
  },
  {
   "cell_type": "markdown",
   "metadata": {},
   "source": [
    "### Return\n",
    "En Principio las funciones retoRnan el valor de la última expresión evaluada, sin embargo si hay un **return**, se va a retornar este valor"
   ]
  },
  {
   "cell_type": "code",
   "execution_count": 65,
   "metadata": {
    "collapsed": false
   },
   "outputs": [
    {
     "data": {
      "text/plain": [
       "prod (generic function with 1 method)"
      ]
     },
     "execution_count": 65,
     "metadata": {},
     "output_type": "execute_result"
    }
   ],
   "source": [
    "function prod(x,y)\n",
    "  return x * y\n",
    "  x + y\n",
    "end"
   ]
  },
  {
   "cell_type": "code",
   "execution_count": 66,
   "metadata": {
    "collapsed": false
   },
   "outputs": [
    {
     "data": {
      "text/plain": [
       "15"
      ]
     },
     "execution_count": 66,
     "metadata": {},
     "output_type": "execute_result"
    }
   ],
   "source": [
    "prod(3,5)"
   ]
  },
  {
   "cell_type": "code",
   "execution_count": 67,
   "metadata": {
    "collapsed": false
   },
   "outputs": [
    {
     "data": {
      "text/plain": [
       "hypot (generic function with 1 method)"
      ]
     },
     "execution_count": 67,
     "metadata": {},
     "output_type": "execute_result"
    }
   ],
   "source": [
    "function hypot(x,y)\n",
    "  x = abs(x)\n",
    "  y = abs(y)\n",
    "  if x > y\n",
    "    r = y/x\n",
    "    return x*sqrt(1+r*r)\n",
    "  end\n",
    "  if y == 0\n",
    "    return zero(x)\n",
    "  end\n",
    "  r = x/y\n",
    "  return y*sqrt(1+r*r)\n",
    "end"
   ]
  },
  {
   "cell_type": "code",
   "execution_count": 68,
   "metadata": {
    "collapsed": false
   },
   "outputs": [
    {
     "data": {
      "text/plain": [
       "5.0"
      ]
     },
     "execution_count": 68,
     "metadata": {},
     "output_type": "execute_result"
    }
   ],
   "source": [
    "hypot(3,4)"
   ]
  },
  {
   "cell_type": "code",
   "execution_count": 69,
   "metadata": {
    "collapsed": false
   },
   "outputs": [
    {
     "data": {
      "text/plain": [
       "5.385164807134505"
      ]
     },
     "execution_count": 69,
     "metadata": {},
     "output_type": "execute_result"
    }
   ],
   "source": [
    "hypot(5,2)"
   ]
  },
  {
   "cell_type": "code",
   "execution_count": 70,
   "metadata": {
    "collapsed": false
   },
   "outputs": [
    {
     "data": {
      "text/plain": [
       "3.0"
      ]
     },
     "execution_count": 70,
     "metadata": {},
     "output_type": "execute_result"
    }
   ],
   "source": [
    "hypot(3,0)"
   ]
  },
  {
   "cell_type": "markdown",
   "metadata": {},
   "source": [
    "### Operadores como Funciones"
   ]
  },
  {
   "cell_type": "code",
   "execution_count": 73,
   "metadata": {
    "collapsed": false
   },
   "outputs": [
    {
     "data": {
      "text/plain": [
       "21"
      ]
     },
     "execution_count": 73,
     "metadata": {},
     "output_type": "execute_result"
    }
   ],
   "source": [
    "1 + 2 + 3 + 4 + 5 + 6"
   ]
  },
  {
   "cell_type": "code",
   "execution_count": 72,
   "metadata": {
    "collapsed": false
   },
   "outputs": [
    {
     "data": {
      "text/plain": [
       "21"
      ]
     },
     "execution_count": 72,
     "metadata": {},
     "output_type": "execute_result"
    }
   ],
   "source": [
    "+(1,2,3,4,5,6)"
   ]
  },
  {
   "cell_type": "markdown",
   "metadata": {},
   "source": [
    "### Para devolver varios valores se pueden usar tuplas"
   ]
  },
  {
   "cell_type": "code",
   "execution_count": 74,
   "metadata": {
    "collapsed": false
   },
   "outputs": [
    {
     "data": {
      "text/plain": [
       "(7,-1,12,0.75)"
      ]
     },
     "execution_count": 74,
     "metadata": {},
     "output_type": "execute_result"
    }
   ],
   "source": [
    "f_aritmeticas(x, y) = x + y, x - y, x * y, x / y\n",
    "f_aritmeticas(3, 4) # => (7, -1)"
   ]
  },
  {
   "cell_type": "markdown",
   "metadata": {},
   "source": [
    "### Para tener una cantidad indefinida de valores se puede usar el operador **_splat_**"
   ]
  },
  {
   "cell_type": "code",
   "execution_count": 75,
   "metadata": {
    "collapsed": false
   },
   "outputs": [
    {
     "name": "stdout",
     "output_type": "stream",
     "text": [
      "(1,2)\n",
      "(1,2,3,4)\n"
     ]
    }
   ],
   "source": [
    "function varargs(args...)\n",
    "    println(args)\n",
    "end\n",
    "\n",
    "varargs(1,2)\n",
    "varargs(1,2,3,4)"
   ]
  },
  {
   "cell_type": "markdown",
   "metadata": {},
   "source": [
    "### Para los valores por defecto como argumentos como para la elección del parámetro"
   ]
  },
  {
   "cell_type": "code",
   "execution_count": 76,
   "metadata": {
    "collapsed": false
   },
   "outputs": [
    {
     "data": {
      "text/plain": [
       "Dict{ASCIIString,Any} with 2 entries:\n",
       "  \"name2\" => \"ness\"\n",
       "  \"k1\"    => 4"
      ]
     },
     "execution_count": 76,
     "metadata": {},
     "output_type": "execute_result"
    }
   ],
   "source": [
    "function defaults(a,b,x=5,y=6)\n",
    "    return \"$a $b and $x $y\"\n",
    "end\n",
    "defaults(1,2)\n",
    "defaults(1,2,3)\n",
    "\n",
    "\n",
    "function keyword_args(;k1=4,name2=\"hello\") # importante el ;\n",
    "    return Dict(\"k1\"=>k1,\"name2\"=>name2)\n",
    "end\n",
    "keyword_args(name2=\"ness\") # => [\"name2\"=>\"ness\",\"k1\"=>4]"
   ]
  },
  {
   "cell_type": "markdown",
   "metadata": {},
   "source": [
    "## 6.Estructuras de control\n",
    "### Condicionales"
   ]
  },
  {
   "cell_type": "code",
   "execution_count": 82,
   "metadata": {
    "collapsed": false
   },
   "outputs": [
    {
     "ename": "LoadError",
     "evalue": "LoadError: syntax: unexpected end\nwhile loading In[82], in expression starting on line 11",
     "output_type": "error",
     "traceback": [
      "LoadError: syntax: unexpected end\nwhile loading In[82], in expression starting on line 11",
      ""
     ]
    }
   ],
   "source": [
    "function test(x,y)\n",
    "     if x < y\n",
    "       relation = \"less than\"\n",
    "     elseif x == y\n",
    "       relation = \"equal to\"\n",
    "     else\n",
    "       relation = \"greater than\"\n",
    "     end\n",
    "     println(\"x is \", relation, \" y.\")\n",
    "   end\n",
    "end"
   ]
  },
  {
   "cell_type": "code",
   "execution_count": 83,
   "metadata": {
    "collapsed": false
   },
   "outputs": [
    {
     "name": "stdout",
     "output_type": "stream",
     "text": [
      "x is less than y.\n"
     ]
    }
   ],
   "source": [
    "test(1,2)"
   ]
  },
  {
   "cell_type": "code",
   "execution_count": 84,
   "metadata": {
    "collapsed": false
   },
   "outputs": [
    {
     "name": "stdout",
     "output_type": "stream",
     "text": [
      "x is greater than y.\n"
     ]
    }
   ],
   "source": [
    "test(2979,2514)"
   ]
  },
  {
   "cell_type": "code",
   "execution_count": 85,
   "metadata": {
    "collapsed": false
   },
   "outputs": [
    {
     "name": "stdout",
     "output_type": "stream",
     "text": [
      "x is equal to y.\n"
     ]
    }
   ],
   "source": [
    "test(32.0,32)"
   ]
  },
  {
   "cell_type": "markdown",
   "metadata": {},
   "source": [
    "#### Operador \"_?_\""
   ]
  },
  {
   "cell_type": "code",
   "execution_count": 86,
   "metadata": {
    "collapsed": false
   },
   "outputs": [
    {
     "data": {
      "text/plain": [
       "f_otro_test (generic function with 1 method)"
      ]
     },
     "execution_count": 86,
     "metadata": {},
     "output_type": "execute_result"
    }
   ],
   "source": [
    "f_otro_test(x,y) = println(x < y ? \"less than\" : \"not less than\")"
   ]
  },
  {
   "cell_type": "code",
   "execution_count": 87,
   "metadata": {
    "collapsed": false
   },
   "outputs": [
    {
     "name": "stdout",
     "output_type": "stream",
     "text": [
      "less than\n"
     ]
    }
   ],
   "source": [
    "f_otro_test(1,2)"
   ]
  },
  {
   "cell_type": "code",
   "execution_count": 90,
   "metadata": {
    "collapsed": false
   },
   "outputs": [
    {
     "name": "stdout",
     "output_type": "stream",
     "text": [
      "not less than\n"
     ]
    }
   ],
   "source": [
    "f_otro_test(3,1)"
   ]
  },
  {
   "cell_type": "markdown",
   "metadata": {},
   "source": [
    "### Ciclos"
   ]
  },
  {
   "cell_type": "code",
   "execution_count": 92,
   "metadata": {
    "collapsed": false
   },
   "outputs": [
    {
     "name": "stdout",
     "output_type": "stream",
     "text": [
      "1\n",
      "2\n",
      "3\n",
      "4\n",
      "5\n"
     ]
    }
   ],
   "source": [
    "i = 1;\n",
    "\n",
    "while i <= 5\n",
    "     println(i)\n",
    "     i += 1\n",
    "end"
   ]
  },
  {
   "cell_type": "code",
   "execution_count": 93,
   "metadata": {
    "collapsed": false
   },
   "outputs": [
    {
     "name": "stdout",
     "output_type": "stream",
     "text": [
      "1\n",
      "2\n",
      "3\n",
      "4\n",
      "5\n"
     ]
    }
   ],
   "source": [
    "for i = 1:5\n",
    "    println(i)\n",
    "end"
   ]
  },
  {
   "cell_type": "code",
   "execution_count": 94,
   "metadata": {
    "collapsed": false
   },
   "outputs": [
    {
     "name": "stdout",
     "output_type": "stream",
     "text": [
      "foo\n",
      "bar\n",
      "baz\n"
     ]
    }
   ],
   "source": [
    "for s in [\"foo\",\"bar\",\"baz\"]\n",
    "    println(s)\n",
    "end"
   ]
  },
  {
   "cell_type": "markdown",
   "metadata": {},
   "source": [
    "### Manejo de errores"
   ]
  },
  {
   "cell_type": "code",
   "execution_count": 95,
   "metadata": {
    "collapsed": false
   },
   "outputs": [
    {
     "name": "stdout",
     "output_type": "stream",
     "text": [
      "UndefVarError(:some_other_var)\n"
     ]
    }
   ],
   "source": [
    "try\n",
    "    some_other_var # => ERROR: some_other_var no definida\n",
    "catch e\n",
    "    println(e)\n",
    "end"
   ]
  },
  {
   "cell_type": "markdown",
   "metadata": {},
   "source": [
    "### Tasks (aka Coroutines)"
   ]
  },
  {
   "cell_type": "code",
   "execution_count": 97,
   "metadata": {
    "collapsed": true
   },
   "outputs": [],
   "source": [
    "function producer()\n",
    "    produce(\"start\")\n",
    "    for n=1:4\n",
    "        produce(2n)\n",
    "    end\n",
    "    produce(\"stop\")\n",
    "end;"
   ]
  },
  {
   "cell_type": "code",
   "execution_count": null,
   "metadata": {
    "collapsed": true
   },
   "outputs": [],
   "source": [
    "p = Task(producer);"
   ]
  },
  {
   "cell_type": "code",
   "execution_count": null,
   "metadata": {
    "collapsed": true
   },
   "outputs": [],
   "source": [
    "consume(p)"
   ]
  },
  {
   "cell_type": "code",
   "execution_count": null,
   "metadata": {
    "collapsed": true
   },
   "outputs": [],
   "source": [
    "consume(p)"
   ]
  },
  {
   "cell_type": "code",
   "execution_count": null,
   "metadata": {
    "collapsed": true
   },
   "outputs": [],
   "source": [
    "consume(p)"
   ]
  },
  {
   "cell_type": "code",
   "execution_count": null,
   "metadata": {
    "collapsed": true
   },
   "outputs": [],
   "source": []
  }
 ],
 "metadata": {
  "kernelspec": {
   "display_name": "Julia 0.4.5",
   "language": "julia",
   "name": "julia-0.4"
  },
  "language_info": {
   "file_extension": ".jl",
   "mimetype": "application/julia",
   "name": "julia",
   "version": "0.4.5"
  }
 },
 "nbformat": 4,
 "nbformat_minor": 0
}
