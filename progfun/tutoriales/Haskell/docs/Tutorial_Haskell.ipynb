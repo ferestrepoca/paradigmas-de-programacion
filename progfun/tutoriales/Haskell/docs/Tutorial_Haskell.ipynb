{
 "cells": [
  {
   "cell_type": "markdown",
   "metadata": {
    "collapsed": false
   },
   "source": [
    "# Tutorial Haskell\n",
    "\n",
    "* Laura Valentina Ceballos Aguilar\n",
    "* Daniel Santiago Silva Capera\n",
    "* Cesar Esteban Díaz Medina\n",
    "* Juan Esteban Alarcón Bravo\n",
    "\n",
    "**Universidad Nacional de Colombia** <br>\n",
    "_Lenguajes de Programación - 2022-II_\n",
    "\n",
    "<img src=\"imgs/haskell.png\" height=\"200\" width=\"200\">"
   ]
  },
  {
   "cell_type": "markdown",
   "metadata": {
    "collapsed": false
   },
   "source": [
    "## Tutorial Haskell"
   ]
  },
  {
   "cell_type": "markdown",
   "metadata": {
    "collapsed": true
   },
   "source": [
    "### **Tus primeros pasos**"
   ]
  },
  {
   "cell_type": "markdown",
   "metadata": {
    "collapsed": false
   },
   "source": [
    "Dado que Haskell es compilado e interpretado, para el desarrollo de programas es necesario tener instalado en entorno de ejecución GHC (Glasglow Haskell Compiler). \n",
    "\n",
    "Existen diferentes maneras de instalar este compilador, pero la más demandada por los desarrolladores expertos es la famosa Stack, ya que esta permite desarrollar en cualquier sistema operativo y mantiene un entorno de ejecución aislado junto con todos los páquetes necesarios. Además de ello, Stack permite lanzar los programas en diferentes modos (test, benchmark, etc), dando al desarrollador mayor fácilidad.\n",
    "\n",
    "A continuación se detalla la instalación de Haskell en el sistema operativo Windows, Linux y MAC.\n",
    "\n",
    "#### **Windows**\n",
    "\n",
    "1.  Dirígete a la página https://docs.haskellstack.org/en/stable/  y descarga el instalador de Haskell.\n",
    "\n",
    "2.  Una vez descargado e instalado verifica mediante tu CMD que el programa haya sido instalado exitósamente mediante el comando _stack ghci_. Este verificará que el compilador funciones y lanzará el interpretador de Haskell.\n",
    "\n",
    "3.  Bien hecho! Ahora que todo funciona podermos crear nuestro nuevo proyecto.\n",
    "\n",
    "#### **Unix Based Systems**\n",
    "\n",
    "1.  Ejecuta la siguiente línea de código en tu terminal para instalar el compilador Haskell.\n",
    "\n",
    "    curl --proto '=https' --tlsv1.2 -sSf https://get-ghcup.haskell.org | sh\n"
   ]
  },
  {
   "cell_type": "markdown",
   "metadata": {},
   "source": [
    "### ¡A crear tu primer proyecto!\n",
    "\n",
    "Una vez instalado el entorno de compilación es hora de crear tu primer proyecto. Para esto dirígete a tu consola de comandos favorita e ingresa _stack new [nombreDeTuProyecto]_. Este comando creará una nueva carpeta en el directorio. La carpeta contendrá los archivos y carpetas necesarios para que el programa que se escriba se ejecute correctamente.\n",
    "\n",
    "Tu directorio tendrá los siguientes archivos:\n",
    "\n",
    "<img src=\"imgs/fileDirectory.png\" height=\"450\" width=\"250\">\n",
    "\n",
    "*  El raíz del programa estará contenida en el archivo **Main.hs** \n",
    "\n",
    "*  Las librerías que se apliquen en el programa estarán en el archivo **Lib.hs**\n",
    "\n",
    "*  La configuración del proyecto se determina mediante el archivo **stack.yaml**\n",
    "\n",
    "*  Dado que Haskell permite la utlizacion de librerias dadas por otro paquete de Haskell estas deberá ser reportadas en el archivo **stack.yaml** en la sección **dependecies**\n"
   ]
  },
  {
   "cell_type": "markdown",
   "metadata": {},
   "source": [
    "## ¡Hola, Mundo! en Haskell\n",
    "\n",
    "Una vez creado el proyecto, nos dirigimos al archivo **Main.hs** ubicado en la carpeta **app** allí se encontrará la reíz de nuestro programa, esta importará el archivo **Lib.hs** donde se encontrarán las operaciones que realizaremos posteriormente.\n",
    "\n",
    "El archivo **Main.hs** a su vez llama a la palabra reservada _main_ la cual indica el inicio del programa y le asigna el valor _someFunc_ la cual viene del archivo **Lib.hs**.\n",
    "\n",
    "Si nos ubicamos en este archivo, encontraremos la declaración de la funcion _someFunc_ la cual tiene como función imprimir mediante la palabra reservada _**putStrLn**_ que veremos más adelante.\n",
    "\n",
    "Por lo tanto, para crear nuestro primer \"Hola Mundo\" deberemos:\n",
    "\n",
    "\n",
    "REVISAR!"
   ]
  },
  {
   "cell_type": "code",
   "execution_count": null,
   "metadata": {},
   "outputs": [],
   "source": [
    "sayHello :: String -> IO ()\n",
    "sayHello name = putStrLn (\"Hello, \" ++ name ++ \"!\")"
   ]
  },
  {
   "cell_type": "markdown",
   "metadata": {},
   "source": [
    "# Aprendiendo Haskell\n",
    "\n",
    "1.   Tipos de datos\n",
    "2.   Variables locales\n",
    "3.   Tuplas y listas\n",
    "4.   Fuctions\n",
    "5.   Currying\n",
    "6.   Higher order fuctions\n",
    "7.   Currying\n",
    "8.  Input/Output\n"
   ]
  },
  {
   "cell_type": "markdown",
   "metadata": {},
   "source": [
    "## 1. Tipos de datos\n",
    "\n",
    "Haskell Tiene como tipos de datos básicos:\n",
    "*    **Int**: Entero delimitado\n",
    "\n",
    "*    **Integer**: Entero no delimitado\n",
    "\n",
    "*    **Doubles**: Valores reales\n",
    "\n",
    "*    **Char**: Caracter ASCII\n",
    "\n",
    "*    **String** \n",
    "\n",
    "*    **()** : Unidad\n",
    "\n",
    "*    **Bool** \n",
    "\n",
    "*    **[a]**: Lista\n",
    "\n",
    "*    **(a,b)**: Tupla\n",
    "\n",
    "*    **Either**: Tipos de suma\n",
    "\n",
    "*    **Maybe**: Valores opcionales\n"
   ]
  },
  {
   "cell_type": "code",
   "execution_count": null,
   "metadata": {},
   "outputs": [],
   "source": [
    "x = 5 -- Int\n",
    "\n",
    "y = 2.1 -- Double\n",
    "\n",
    "z = True -- Boolean\n",
    "\n",
    "myList = ['a', 'b'] -- List\n",
    "\n",
    "myTuple = (True, \"str\", [1 , 2]) -- Tuple\n"
   ]
  },
  {
   "cell_type": "markdown",
   "metadata": {},
   "source": [
    "## 2. Variables locales\n",
    "\n",
    "La declaración de variables locales en Haskell permite que la creación de operaciones o funciones sea más entendible, esto se hace posible mediante el enlazamiento de otras variables la cuales se llaman dentro de la operación. Esto se hace posible mediante el uso de las palabras reservadas **let - in** o **where**."
   ]
  },
  {
   "cell_type": "code",
   "execution_count": null,
   "metadata": {},
   "outputs": [],
   "source": [
    "-- Lo que podria ser\n",
    "myfun x = (x + 1) * ( x +1) \n",
    "\n",
    "-- Puede ser escrito como\n",
    "myFun2 x = let \n",
    "    y = x + 1\n",
    "    in y * y\n",
    "\n",
    "-- o puede ser escrito como\n",
    "\n",
    "myFun3 x = \n",
    "    y * y\n",
    "    where y = x + 1\n"
   ]
  },
  {
   "cell_type": "markdown",
   "metadata": {},
   "source": [
    "# Tuplas y listas\n",
    "\n",
    "En haskell como en muchos otros lenguajes, las tuplas se expresan mediante paréntesis y las listas mediante paréntesis cuadrados. Cabe denotar que a diferencia de las listas, las tuplas pueden tener dentro de sí tipos de datos variados, mientras que las listas son estructuras homogeneas que tendrán únicamente elementos de un solo tipo de los mencionados en el punto 1. \n",
    "\n",
    "El uso de una tupla  o una lista dependerá de la lógica del programa desarrollado.\n",
    "\n",
    "Es estos tipos de datos se puede ver reflejado el polimorfismo de Haskell mediante la función que permite conocer la lógitud de la lista o tupla.\n",
    "\n"
   ]
  },
  {
   "cell_type": "code",
   "execution_count": null,
   "metadata": {
    "collapsed": false
   },
   "outputs": [
    {
     "data": {
      "text/plain": [
       "2"
      ]
     },
     "execution_count": 1,
     "metadata": {},
     "output_type": "execute_result"
    },
    {
     "data": {
      "text/plain": [
       "4"
      ]
     },
     "execution_count": 1,
     "metadata": {},
     "output_type": "execute_result"
    },
    {
     "data": {
      "text/plain": [
       "4"
      ]
     },
     "execution_count": 1,
     "metadata": {},
     "output_type": "execute_result"
    },
    {
     "data": {
      "text/plain": [
       "3"
      ]
     },
     "execution_count": 1,
     "metadata": {},
     "output_type": "execute_result"
    }
   ],
   "source": [
    "myTuple = ('a',1.3, True, (\"str\", 2)) -- Different types of data\n",
    "myList = [1 , 2 , 3] -- Same type of data\n",
    "length ['a', 'b']\n",
    "length [1, 2, 10, 100]\n",
    "length (True, 'a', 2, [1,2])"
   ]
  },
  {
   "cell_type": "markdown",
   "metadata": {},
   "source": [
    "## Operaciones con listas\n",
    "\n",
    "Las operaciones con listas en Haskell se pueden definir como:\n",
    "\n",
    "*  Extracción de un elemento\n",
    "*  Búsqueda de elemento\n",
    "*  Verificar si la lista está vacía o no\n",
    "*  Operaciones con los elementos de la lista\n",
    "*  Obtención de sublista\n",
    "*  Rangos\n",
    "*  Listas de comprensión"
   ]
  },
  {
   "cell_type": "markdown",
   "metadata": {},
   "source": [
    "### Extracción de un elemento\n",
    "\n",
    "Para obtener un elemento de una lista hacemos uso de del operador *!!* luego de llamar a la variable que tiene la lista. \n",
    "\n",
    "Como cualquier otro lenguaje de programación si se accede a un elemento en una posición no existente en memoria, el programa indicará error."
   ]
  },
  {
   "cell_type": "code",
   "execution_count": null,
   "metadata": {},
   "outputs": [],
   "source": [
    "let getElementOfList = [1,2,3,4]\n",
    "\n",
    "getElementOfList !! length getElementOfList - 1"
   ]
  },
  {
   "cell_type": "markdown",
   "metadata": {},
   "source": [
    "### Búsqueda de elemento\n",
    "\n",
    "Haskell cuenta con la opción de indicar si cierto elemento se encuentra dentro de la lista al menos una vez. Para ello se hace uso de la función *`elem`* rodeada con tildes invertidas. \n",
    "\n",
    "El uso de la función se da de la siguiente manera:\n",
    "\n",
    "*elemento buscado* *`elem`* *lista donde se buscará*\n",
    "\n",
    "La función retornará **True** o **False** según haya sido el éxito de la búsqueda"
   ]
  },
  {
   "cell_type": "code",
   "execution_count": null,
   "metadata": {},
   "outputs": [],
   "source": [
    "let searchElement = ['a', 'b', 'c']\n",
    "\n",
    "'c' `elem` searchElement \n",
    "\n",
    "'k' `elem` searchElement "
   ]
  },
  {
   "cell_type": "markdown",
   "metadata": {},
   "source": [
    "### Lista vacía\n",
    "\n",
    "Para concoer si una lista no posee elementos Haskell hace uso de la función `null` para evaluar el contenido de una lista dada."
   ]
  },
  {
   "cell_type": "code",
   "execution_count": null,
   "metadata": {},
   "outputs": [],
   "source": [
    "let emptyList = []\n",
    "\n",
    "let nonEmplyList = [True, True, False]\n",
    "\n",
    "null [emptyList] -- Must return true\n",
    "\n",
    "null [nonEmplyList] -- Must return false"
   ]
  },
  {
   "cell_type": "markdown",
   "metadata": {},
   "source": [
    "### Operación con elementos de la lista\n",
    "\n",
    "Además de poder realizar las operaciones anteriormente descritas, Haskell posee funciones para realizar operaciones sobre todos los elementos de la lista sin necesitas de hacer uno de un cliclo iterativo. \n",
    "\n",
    "Algunas de las operaciones que ofrece el lenguaje son:\n",
    "\n",
    "*  **sum:** Retorna la sumatoria de todos los elementos que están en la lista. Se debe tener en cuenta que los elementos de la lista deben poder ser sumables, esto quiere decir que deben ser de tipo Num.\n",
    "\n",
    "*  **product:** Retorna el productorio de todos los elementos que están en la lista. Nuevamente el tipo de datos de los elementos de la lista deben poder ser multiplicados.\n",
    "\n",
    "*  **maximun:** Retorna el valor máximo de la lista\n",
    "\n",
    "*  **minimum:** Retorna el valor mínimo de la lista\n",
    "\n",
    "Debido a que estás funciones retornar un tipo de dato, estas pueden ser combinadas mediante diferentes operaciones para hayan más resultados. Un ejemplo de ello puede ser hayan el promedio de valores en una lista con tipos de datos Num\n"
   ]
  },
  {
   "cell_type": "code",
   "execution_count": null,
   "metadata": {},
   "outputs": [],
   "source": [
    "let myList = [1.0, -2,3, 5.0, 10.0]\n",
    "\n",
    "sum myList\n",
    "\n",
    "product myList\n",
    "\n",
    "maximum myList\n",
    "\n",
    "-- Operactions list used in other operations \n",
    "let average = sum myList `div` length myList "
   ]
  },
  {
   "cell_type": "markdown",
   "metadata": {},
   "source": [
    "### Obtención sublista\n",
    "\n",
    "Para tomar solo una porción de una lista dada, Haskell hace uso de la funcion `take {num of element}` para definir una nueva lista con elementos de la lista padre."
   ]
  },
  {
   "cell_type": "code",
   "execution_count": null,
   "metadata": {},
   "outputs": [],
   "source": [
    "let list = [1,2,3,4,5,6,7,8]\n",
    "\n",
    "let subList = take 4 list\n"
   ]
  },
  {
   "cell_type": "markdown",
   "metadata": {},
   "source": [
    "### Rangos\n",
    "\n",
    "Esta función ha sido implementada por Haskell para generar listas de manera más óptima mediante el concepto de sucesión y el uso de patrones el cual no debe ser ambiguo.\n",
    "\n",
    "Para generar estas listas se hace uso del operador **..** luego de definir al menos dos elementos de la lista. El programa será capaz de entender el patrón que se quiere y generar con la lista. \n",
    "\n",
    "Dado que esta lista poseerá una cantidad inmensa de valores, se hará uso de la función de obtención de sublista para declarar la lista con la longitud que se desee y el patron brindado."
   ]
  },
  {
   "cell_type": "code",
   "execution_count": null,
   "metadata": {},
   "outputs": [],
   "source": [
    "let zeros = [0,0,..] \n",
    "\n",
    "take 50 zeros"
   ]
  },
  {
   "cell_type": "markdown",
   "metadata": {},
   "source": [
    "Se observa como el operador **..** hace que la lista ofreza la cantidad de elementos necesarios y los dos elementos insertados en la lista dan información al programa de que la lista únicamente contendrá ceros."
   ]
  },
  {
   "cell_type": "code",
   "execution_count": null,
   "metadata": {},
   "outputs": [],
   "source": [
    "let patron = [1,3..]\n",
    "\n",
    "take 20 patron"
   ]
  },
  {
   "cell_type": "markdown",
   "metadata": {},
   "source": [
    "Se observa como los primeros dos valores de la lista indican al programa que se desean únicamente los valores impares."
   ]
  },
  {
   "cell_type": "code",
   "execution_count": null,
   "metadata": {},
   "outputs": [],
   "source": [
    "let patron2 = [0,1,0]"
   ]
  },
  {
   "cell_type": "markdown",
   "metadata": {},
   "source": [
    "### Listas de comprensión\n",
    "\n",
    "Las listas de compresión permiten generar listas a partir de la definición de un conjunto. Esto evita usar ciclos iterativos y da un aspecto más matemático al programa.\n",
    "\n",
    "Para crear la lista Haskell requerirá la declaración de un conjunto de datos tal cual se hace en los conjuntos.\n"
   ]
  },
  {
   "cell_type": "code",
   "execution_count": null,
   "metadata": {},
   "outputs": [],
   "source": [
    "let listByListComp = [x + y | x <- [0..5], y <- [0..5]]"
   ]
  },
  {
   "cell_type": "markdown",
   "metadata": {},
   "source": [
    "## Operaciones con tuplas\n",
    "\n",
    "Siempre y cuando las tuplas a operar tengan la misma logitud, estas podrán ser operadas mediantes operaciones de comparación a través de los operadores lógicos como: \n",
    "\n",
    "*  Mayor que >\n",
    "*  Menos que <\n",
    "*  Mayor o igual >=\n",
    "*  Menos o igual <=\n",
    "*  Igual ==\n",
    "*  Diferente /="
   ]
  },
  {
   "cell_type": "code",
   "execution_count": null,
   "metadata": {},
   "outputs": [],
   "source": [
    "let tuple1 = ('a', 2, True)\n",
    "let tuple2 = ('a', 3, True)\n",
    "let tuple3 = ('a', 2, True)\n",
    "let tuple4 = ('b', 2, True)"
   ]
  },
  {
   "cell_type": "code",
   "execution_count": null,
   "metadata": {},
   "outputs": [],
   "source": [
    "tuple1 == tuple2"
   ]
  },
  {
   "cell_type": "code",
   "execution_count": null,
   "metadata": {},
   "outputs": [],
   "source": [
    "tuple1 == tuple3"
   ]
  },
  {
   "cell_type": "code",
   "execution_count": null,
   "metadata": {},
   "outputs": [],
   "source": [
    "tuple3 <= tuple1"
   ]
  },
  {
   "cell_type": "markdown",
   "metadata": {},
   "source": [
    "## Obtener primer o segundo elemento de una tupla\n",
    "\n",
    "Para obtener el primer elemento de una tupla definida se hace uso de la función **fst** seguido del nombre de la tupla a la que se le quiere hallar su primer elemento.\n",
    "\n",
    "Para hallar el segundo elemento se realizará la misma sintaxis pero se usará la función **scd**"
   ]
  },
  {
   "cell_type": "code",
   "execution_count": null,
   "metadata": {},
   "outputs": [],
   "source": [
    "let i = (1,2,3,4)\n",
    "\n",
    "fst i\n",
    "\n",
    "scd i"
   ]
  },
  {
   "cell_type": "markdown",
   "metadata": {},
   "source": [
    "## Algunas características potentes de Haskell"
   ]
  },
  {
   "cell_type": "markdown",
   "metadata": {},
   "source": [
    "### Tail Call Optimization"
   ]
  },
  {
   "cell_type": "code",
   "execution_count": null,
   "metadata": {},
   "outputs": [],
   "source": [
    "-- tail call optimization\n",
    "\n",
    "-- tail call optimization is a technique that allows a function to\n",
    "-- return to the caller without using any stack space.  This is\n",
    "-- possible when the function is the last thing to be done before\n",
    "-- returning to the caller.  In this case, the function can be\n",
    "-- replaced by the caller, and the stack space used by the function\n",
    "-- can be reused by the caller.\n",
    "\n",
    "-- ! sum of N numbers without tail call optimization\n",
    "\n",
    "sum' :: Int -> Int\n",
    "sum' 0 = 0\n",
    "sum' n = n + sum' (n - 1)\n",
    "\n",
    "-- ? in two different ways\n",
    "sumN x = if x == 0 then 0\n",
    "        else x + sumN (x - 1)\n",
    "\n",
    "-- ! sum of N numbers with tail call optimization\n",
    "-- * here acc is the accumulator, and becomes our state variable\n",
    "sum'' :: Int -> Int -> Int\n",
    "sum'' 0 acc = acc\n",
    "sum'' n acc = sum'' (n - 1) (n + acc)\n",
    "\n",
    "-- ? in two different ways\n",
    "\n",
    "sumN' x acc = if x == 0 then acc\n",
    "             else sumN' (x - 1) (x + acc)\n",
    "\n",
    "-- ! Non recursive sollution\n",
    "sumExpr :: Int -> Int\n",
    "sumExpr x = x * (x + 1) `div` 2\n",
    "\n",
    "main :: IO ()\n",
    "main = do\n",
    "  print $ sum' 10\n",
    "  print $ sumN 10\n",
    "  print $ sum'' 10 0\n",
    "  print $ sumN' 10 0\n",
    "  print $ sumExpr 10\n"
   ]
  },
  {
   "cell_type": "markdown",
   "metadata": {},
   "source": [
    "### Pattern Matching"
   ]
  },
  {
   "cell_type": "code",
   "execution_count": null,
   "metadata": {},
   "outputs": [],
   "source": [
    "\n",
    "\n",
    "-- Pattern matching\n",
    "\n",
    "-- Pattern matching is a way to match a value against a pattern. \n",
    "-- If the value matches the pattern, then the pattern is executed. \n",
    "-- If the value does not match the pattern, then the pattern is not executed.\n",
    "\n",
    "\n",
    "-- deconstructing a list\n",
    "data Weight = Grams Float | Kilograms Float | Pounds Float | Ounces Float\n",
    "\n",
    "get_weight_in_grams :: Weight -> Float\n",
    "get_weight_in_grams (Grams x) = x\n",
    "get_weight_in_grams (Kilograms x) = x * 1000\n",
    "get_weight_in_grams (Pounds x) = x * 453.592\n",
    "get_weight_in_grams (Ounces x) = x * 28.3495\n"
   ]
  },
  {
   "cell_type": "markdown",
   "metadata": {},
   "source": [
    "### dot operator (.) function composition"
   ]
  },
  {
   "cell_type": "code",
   "execution_count": null,
   "metadata": {},
   "outputs": [],
   "source": [
    "duplicate :: [Int] -> [Int]\n",
    "duplicate = map(*2)\n",
    "\n",
    "get_even :: [Int] -> [Int]\n",
    "get_even = filter even\n",
    "\n",
    "-- * this is the same as the above\n",
    "\n",
    "-- get_even' :: [Int] -> [Int]\n",
    "-- get_even' = filter (\\x -> x `mod` 2 == 0)\n",
    "\n",
    "-- ! We can concatenate functions, while \n",
    "-- ! their output is the input of the next function\n",
    "\n",
    "get_duplicate_even :: [Int] -> [Int]\n",
    "get_duplicate_even = duplicate . get_even\n"
   ]
  },
  {
   "cell_type": "markdown",
   "metadata": {},
   "source": [
    "### Currying"
   ]
  },
  {
   "cell_type": "code",
   "execution_count": null,
   "metadata": {},
   "outputs": [],
   "source": [
    "-- currying is the process of transforming a function that takes multiple arguments\n",
    "-- into a function that takes a single argument and returns another function that takes \n",
    "-- the next argument and so on.\n",
    "\n",
    "\n",
    "sumAndShowPrivate driver x y = driver (show (x + y))\n",
    "\n",
    "sumAndShow = sumAndShowPrivate putStrLn"
   ]
  },
  {
   "cell_type": "markdown",
   "metadata": {
    "collapsed": true
   },
   "source": [
    "## Referencias\n",
    "\n",
    "*  [https://www.tutorialspoint.com/haskell/haskell\\_lists.htm](https://www.tutorialspoint.com/haskell/haskell_lists.htm)\n",
    "*  [Youtube](https://www.youtube.com/watch?v=mXroxy93nXg&t=489s)"
   ]
  },
  {
   "cell_type": "markdown",
   "metadata": {},
   "source": [
    "# Funciones\n",
    "\n",
    "Ya que Haskell es un lenguaje de programación funcional, no es soprendente que las funciones en Haskell sean un fuerte.\n",
    "\n",
    "Las función en Haskell se debe definir iniciando con una letra minúscula.\n",
    "\n",
    "Dentro de Haskell podemos encontrar dos tipos de funciones las funciones parcializadas y no parcializadas.\n",
    "\n",
    "Las funciones parcializadas o curried se basan en la declaración de funciones con parametros.\n",
    "\n",
    "Un ejemplo de este tipo de funciones es:"
   ]
  },
  {
   "cell_type": "code",
   "execution_count": null,
   "metadata": {},
   "outputs": [],
   "source": [
    "add x y = x + y"
   ]
  },
  {
   "cell_type": "markdown",
   "metadata": {},
   "source": [
    "La funciones no parcializadas se declaran y sus parámetros deben ir en paréntesis, es decir, mediante una tupla.\n",
    "\n",
    "Una función no parcializada en Haskell se puede ver de la siguiente manera:"
   ]
  },
  {
   "cell_type": "code",
   "execution_count": null,
   "metadata": {},
   "outputs": [],
   "source": [
    "add (x,y) = x + y"
   ]
  },
  {
   "cell_type": "markdown",
   "metadata": {},
   "source": [
    "Las funciones parcializadas a su vez tienen la característica de basarse en un solo parámetro dentro de su función, se procesa con una sola variable y con base en la respuesta dada se realiza la operación con los demás parámetros.\n",
    "\n",
    "# **Tip** \n",
    "Toda función binaria puede expresarse como un operador infijo!"
   ]
  },
  {
   "cell_type": "code",
   "execution_count": null,
   "metadata": {},
   "outputs": [],
   "source": [
    "add x y = x + y\n",
    "8 `add` 5"
   ]
  },
  {
   "cell_type": "markdown",
   "metadata": {},
   "source": [
    "# Funciones no estrictas\n",
    "\n",
    "Gracias a que Haskell es de tipo Lazy y por lo tanto evalua las expresiones únicamente en el momento de evaluarlas, podemos hacer uso de ello para crear funciones que tal vez en un momento dado podrías dar error hasta que se realice un proceso diferente.\n",
    "\n",
    "Este metodología de Haskell ha mejorado el trabajo de muchos programadores evitando la preocupación por el orden de las funciones.\n",
    "\n",
    "Un ejemplo de una función no estricta es:"
   ]
  },
  {
   "cell_type": "code",
   "execution_count": null,
   "metadata": {},
   "outputs": [],
   "source": [
    "myFun = myFun -- Se llama a sí misma\n",
    "\n",
    "myFun2 = 1/0 -- Error matemático"
   ]
  },
  {
   "cell_type": "markdown",
   "metadata": {},
   "source": [
    "# Abstracciones lambda \n",
    "\n",
    "Cómo el logo de Haskell lo indica, las expresiones lambda son un fuerte en este lenguaje de programación, donde mediante la declaración de funciones lambda que son a su vez expresiones matemáticas cobran sentido en este lenguaje y se hacen útiles a la hora de desarollar programas.\n",
    "\n",
    "La delcaración de estas funciones se hace a traves de funciones anónimas "
   ]
  },
  {
   "cell_type": "code",
   "execution_count": null,
   "metadata": {},
   "outputs": [],
   "source": [
    "inc = \\x -> x + 1\n",
    "add_1 = \\x y -> x + y\n",
    "add_2 = \\x -> \\y -> x + y\n",
    "even = filter (\\x -> (mod x 2) == 0)"
   ]
  },
  {
   "cell_type": "markdown",
   "metadata": {},
   "source": [
    "# Operadores infijos\n",
    "\n",
    "Estos operadores resultan ser a su vez funciones y por lo tanto puede llegar a comportarse como funciones a la hora de ejecutar operaciones y también a la hora de crear otras funciones.\n",
    "\n"
   ]
  },
  {
   "cell_type": "code",
   "execution_count": null,
   "metadata": {},
   "outputs": [],
   "source": [
    "concat_1 = (++) \"hello\" \"world\"\n",
    "\n",
    "concat_2 = \"hola\" ++ \"mundo\"\n"
   ]
  },
  {
   "cell_type": "markdown",
   "metadata": {},
   "source": [
    "Gracias a que existen funciones no estrictas, Haskell incluso puede llegar a crear para el desarrollador estructuras de datos infinitas las cuales posteriormente se obtendrá un trozo de la estructura y se operará con ella. \n",
    "\n",
    "Por ejemplo:"
   ]
  },
  {
   "cell_type": "code",
   "execution_count": null,
   "metadata": {},
   "outputs": [],
   "source": [
    "-- Lista infinita de 1's\n",
    "ones = 1 : ones \n",
    "\n",
    "\n",
    "--Lista de todos los números a partir de n\n",
    "numForm n = n : numForm (n+1) "
   ]
  },
  {
   "cell_type": "markdown",
   "metadata": {},
   "source": [
    "las operaciones que se pueden realizar con estas estructuras de datos varian desde el tomar n cantidad de elementos hasta filtrar según alguna característica.\n",
    "\n",
    "Algunos ejemplos de las operaciones que se pueden realizar son:\n",
    "\n",
    "* take\n",
    "* takeWhile\n",
    "* filter"
   ]
  },
  {
   "cell_type": "code",
   "execution_count": 1,
   "metadata": {},
   "outputs": [
    {
     "ename": "SyntaxError",
     "evalue": "invalid syntax (2528587995.py, line 1)",
     "output_type": "error",
     "traceback": [
      "\u001b[0;36m  Input \u001b[0;32mIn [1]\u001b[0;36m\u001b[0m\n\u001b[0;31m    take 5 numForm\u001b[0m\n\u001b[0m         ^\u001b[0m\n\u001b[0;31mSyntaxError\u001b[0m\u001b[0;31m:\u001b[0m invalid syntax\n"
     ]
    }
   ],
   "source": [
    "take 5 numForm\n",
    "\n",
    "takeWhile (<7) numForm\n",
    "\n",
    "filter odd numForm"
   ]
  },
  {
   "cell_type": "markdown",
   "metadata": {},
   "source": [
    "# Sintaxis basada en notación matemática\n",
    "Haskell basa gran parte de su estilo de sintaxis  en la notación matemática tradicional. Esto es especialmente notorio en el caso de las funciones:"
   ]
  },
  {
   "cell_type": "code",
   "execution_count": null,
   "metadata": {},
   "outputs": [],
   "source": [
    "factorial :: Integer -> Integer\n",
    "factorial 0 = 1\n",
    "factorial n = n * factorial(n-1)"
   ]
  },
  {
   "cell_type": "markdown",
   "metadata": {},
   "source": [
    "## Definición de Namespace: Dominio y Rango\n",
    "\n",
    "Como sucede en la primera línea de la función anterior, se está diciendo que esta función _\"recibe Integer y regresa Integer\"_. Esto tiene un paralelo matemático directo con el **Dominio** y el **Rango** de una función."
   ]
  },
  {
   "cell_type": "markdown",
   "metadata": {},
   "source": [
    "## Recursividad\n",
    "\n",
    "Las dos líneas siguientes corresponden a la _definción recursiva de la función_: primero su **caso base** y luego su **recusión**."
   ]
  },
  {
   "cell_type": "markdown",
   "metadata": {},
   "source": [
    "# Llamados a Funciones\n",
    "\n",
    "Haskell permite llamar funciones de distintas maneras. Es posible llamar a la función por su nombre o por su operador y en una notación de prefijo o infijo, según nuestras necesidades:"
   ]
  },
  {
   "cell_type": "code",
   "execution_count": null,
   "metadata": {},
   "outputs": [],
   "source": [
    "--Definición de la función:\n",
    "add a b = a + b\n",
    "\n",
    "--Distintos métodos de llamado:\n",
    "call_1 = add 5 5   --Función como prefijo\n",
    "call_2 = (+) 5 5   --Operador como prefijo\n",
    "call_3 = 5 + 5     --Operador infijo\n",
    "call_4 = 5 `add` 5 --Función como infijo"
   ]
  },
  {
   "cell_type": "markdown",
   "metadata": {},
   "source": [
    "En el `call_3` es importante mencionar que aunque Haskell diferencia el llamado de la función y el operador sintácticamente, no lo hace a nivel semántico."
   ]
  },
  {
   "cell_type": "markdown",
   "metadata": {},
   "source": [
    "# Correcursión en Funciones\n",
    "\n",
    "Haskell permite definir funciones **correcursivas**. Estas funciones, a diferencia de las recursivas, inician desde el caso base y van construyendo sus resultados posteriores con base en los resultados previamente obtenidas por ellas mismas.\n",
    "\n",
    "Esto permite implementar funciones como esta:"
   ]
  },
  {
   "cell_type": "code",
   "execution_count": null,
   "metadata": {},
   "outputs": [],
   "source": [
    "fibs = 0 : 1 : zipWith (+) fibs (tail fibs)"
   ]
  },
  {
   "cell_type": "markdown",
   "metadata": {},
   "source": [
    "La anterior funcion genera una lista con los números de Fibonacci en **tiempo lineal**. Además de ser una función correcursiva, también aprovecha la facilidad de que las funciones son Lazy, por lo que un llamado a esta función solo consumirá recursos de cómputo luego de hacerse."
   ]
  },
  {
   "cell_type": "markdown",
   "metadata": {},
   "source": [
    "# Coincidencia de Patrones\n",
    "\n",
    "La coincidencia de patrones permite definir funciones que identifiquen patrones y se evalúen respecto a ellos."
   ]
  },
  {
   "cell_type": "code",
   "execution_count": null,
   "metadata": {},
   "outputs": [],
   "source": [
    "empty :: [a] -> Bool\n",
    "empty (x:xs) = False\n",
    "empty [] = True"
   ]
  },
  {
   "cell_type": "markdown",
   "metadata": {
    "kernelspec": {
     "display_name": "Haskell",
     "language": "haskell",
     "name": "haskell"
    },
    "language_info": {
     "codemirror_mode": "ihaskell",
     "file_extension": ".hs",
     "name": "haskell",
     "version": "8.4.2"
    }
   },
   "source": [
    "La anterior función `empty` se inicia definiendo que recibirá una lista de elementos `a` no especificados y retornará un valor **Booleano**.\n",
    "\n",
    "Luego, decide: si tiene algún elemento, retorna **Falso**. SI está vacía, retorna **Verdadero**."
   ]
  }
 ],
 "metadata": {
  "kernelspec": {
   "display_name": "Python 3.10.6 64-bit",
   "language": "python",
   "name": "python3"
  },
  "language_info": {
   "codemirror_mode": {
    "name": "ipython",
    "version": 3
   },
   "file_extension": ".py",
   "mimetype": "text/x-python",
   "name": "python",
   "nbconvert_exporter": "python",
   "pygments_lexer": "ipython3",
   "version": "3.10.6"
  },
  "orig_nbformat": 4,
  "vscode": {
   "interpreter": {
    "hash": "916dbcbb3f70747c44a77c7bcd40155683ae19c65e1c03b4aa3499c5328201f1"
   }
  }
 },
 "nbformat": 4,
 "nbformat_minor": 2
}
